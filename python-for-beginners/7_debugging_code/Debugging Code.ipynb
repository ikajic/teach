{
 "metadata": {
  "celltoolbar": "Slideshow",
  "name": "",
  "signature": "sha256:d9e47c0c12e337db4e310f8b907c0ac72c735b37dcabe695ab58203d91fbc53f"
 },
 "nbformat": 3,
 "nbformat_minor": 0,
 "worksheets": [
  {
   "cells": [
    {
     "cell_type": "markdown",
     "metadata": {
      "slideshow": {
       "slide_type": "slide"
      }
     },
     "source": [
      "# 6. Coding workflow, simple debugging\n",
      "\n",
      "3rd December 2014\n",
      "\n",
      "Goals:\n",
      "\n",
      "* Discuss what makes programming so hard\n",
      "\n",
      "* Competition: chase bugs in the code\n",
      "\n",
      "* Check homeworks\n"
     ]
    },
    {
     "cell_type": "markdown",
     "metadata": {
      "slideshow": {
       "slide_type": "slide"
      }
     },
     "source": [
      "## Programming workflow\n",
      "\n",
      "* Involves several steps, and it starts with identifying the problem: how can a computer help us solve our problem? What are the componenst of the problem that can be automatised?\n",
      "\n",
      "* In our case, the problems are usually related to the data analysis and interpretation (e.g. visualisation)\n",
      "\n",
      "* What are the steps?\n"
     ]
    },
    {
     "cell_type": "markdown",
     "metadata": {
      "slideshow": {
       "slide_type": "slide"
      }
     },
     "source": [
      "## In the ideal universe... \n",
      "\n",
      "* First, develop an idea of how to solve the problem: \n",
      "    * You need: your brain, a piece of paper, pen\n",
      "    \n",
      "* Second, you write the code\n",
      "\n",
      "* Third, you run your program and see the answer to your question"
     ]
    },
    {
     "cell_type": "markdown",
     "metadata": {
      "slideshow": {
       "slide_type": "slide"
      }
     },
     "source": [
      "## In the ideal universe... \n",
      "\n",
      "* First, develop an idea of how to solve the problem: \n",
      "    * You need: your brain, a piece of paper, pen\n",
      "    \n",
      "* Second, you write the code\n",
      "\n",
      "* Third, you run your program and see the answer to your question\n",
      "\n",
      "### What's wrong here?"
     ]
    },
    {
     "cell_type": "markdown",
     "metadata": {
      "slideshow": {
       "slide_type": "slide"
      }
     },
     "source": [
      "## Let's go back in time..."
     ]
    },
    {
     "cell_type": "markdown",
     "metadata": {},
     "source": [
      "* ENIAC (*Electronic Numerical Integrator And Computer*, 1946) is one of the first electronic computers"
     ]
    },
    {
     "cell_type": "code",
     "collapsed": false,
     "input": [
      "from IPython.display import Image\n",
      "Image(url='http://upload.wikimedia.org/wikipedia/commons/4/4e/Eniac.jpg', width=500)"
     ],
     "language": "python",
     "metadata": {},
     "outputs": [
      {
       "html": [
        "<img src=\"http://upload.wikimedia.org/wikipedia/commons/4/4e/Eniac.jpg\" width=\"500\"/>"
       ],
       "metadata": {},
       "output_type": "pyout",
       "prompt_number": 33,
       "text": [
        "<IPython.core.display.Image at 0x3323d50>"
       ]
      }
     ],
     "prompt_number": 33
    },
    {
     "cell_type": "markdown",
     "metadata": {
      "slideshow": {
       "slide_type": "slide"
      }
     },
     "source": [
      "## Bugs back then"
     ]
    },
    {
     "cell_type": "markdown",
     "metadata": {
      "slideshow": {
       "slide_type": "-"
      }
     },
     "source": [
      "Grace Hopper, an American computer scientist, discovered the reason for the malfunction in the computer Harvard Mark II"
     ]
    },
    {
     "cell_type": "code",
     "collapsed": false,
     "input": [
      "Image(url='http://www.agnesscott.edu/lriddle/women/hooper.jpg', width=300)"
     ],
     "language": "python",
     "metadata": {},
     "outputs": [
      {
       "html": [
        "<img src=\"http://www.agnesscott.edu/lriddle/women/hooper.jpg\" width=\"300\"/>"
       ],
       "metadata": {},
       "output_type": "pyout",
       "prompt_number": 34,
       "text": [
        "<IPython.core.display.Image at 0x3323f50>"
       ]
      }
     ],
     "prompt_number": 34
    },
    {
     "cell_type": "code",
     "collapsed": false,
     "input": [
      "Image(url='http://upload.wikimedia.org/wikipedia/commons/8/8a/H96566k.jpg', width=600)"
     ],
     "language": "python",
     "metadata": {
      "slideshow": {
       "slide_type": "subslide"
      }
     },
     "outputs": [
      {
       "html": [
        "<img src=\"http://upload.wikimedia.org/wikipedia/commons/8/8a/H96566k.jpg\" width=\"600\"/>"
       ],
       "metadata": {},
       "output_type": "pyout",
       "prompt_number": 25,
       "text": [
        "<IPython.core.display.Image at 0x3323910>"
       ]
      }
     ],
     "prompt_number": 25
    },
    {
     "cell_type": "markdown",
     "metadata": {
      "slideshow": {
       "slide_type": "slide"
      }
     },
     "source": [
      "## Bugs today\n",
      "\n",
      "* We are not finding animals in our computers anymore, but there are still problems with our programs (**bugs**)\n",
      "\n",
      "* Mistakes and errors in the code are caused by humans (wrong assumptions, typos, syntax errors...) and can be only discovered and repaired by humans!\n",
      "\n",
      "* They are expensive: time, money, sleep, career...\n",
      "\n",
      "* Advanced methods to ensure minimal amount of errors in your code (so called **testing**)\n",
      "\n",
      "* For us: inspecting the code!"
     ]
    },
    {
     "cell_type": "markdown",
     "metadata": {
      "slideshow": {
       "slide_type": "slide"
      }
     },
     "source": [
      "### Small competition: For each discovered bug, you get a point! \n",
      "\n",
      "#### There is a prize! ;)"
     ]
    },
    {
     "cell_type": "markdown",
     "metadata": {
      "slideshow": {
       "slide_type": "slide"
      }
     },
     "source": [
      "## Warming up"
     ]
    },
    {
     "cell_type": "markdown",
     "metadata": {},
     "source": [
      "### Exercise 1"
     ]
    },
    {
     "cell_type": "code",
     "collapsed": false,
     "input": [
      "# assuming x is an integer defined before this piece of code\n",
      "\n",
      "if x > 0\n",
      "    print 'x is positive'"
     ],
     "language": "python",
     "metadata": {},
     "outputs": []
    },
    {
     "cell_type": "markdown",
     "metadata": {},
     "source": [
      "### Exercise 2"
     ]
    },
    {
     "cell_type": "code",
     "collapsed": false,
     "input": [
      "# again the same x\n",
      "\n",
      "print 'your bank account statement is:' + x"
     ],
     "language": "python",
     "metadata": {},
     "outputs": []
    },
    {
     "cell_type": "markdown",
     "metadata": {
      "slideshow": {
       "slide_type": "slide"
      }
     },
     "source": [
      "### Exercise 3"
     ]
    },
    {
     "cell_type": "code",
     "collapsed": false,
     "input": [
      "if user_response == correct_response:\n",
      "    print 'Correct answer!'\n",
      "    points = points + 1\n",
      "else:\n",
      "    print 'Wrong answer!'\n",
      "\n",
      "points = points - 1"
     ],
     "language": "python",
     "metadata": {
      "slideshow": {
       "slide_type": "-"
      }
     },
     "outputs": []
    },
    {
     "cell_type": "markdown",
     "metadata": {},
     "source": [
      "### Exercise 4"
     ]
    },
    {
     "cell_type": "code",
     "collapsed": false,
     "input": [
      "names = ['Ilaria', 'Ivana', 'Mihaela', 'Simone']\n",
      "\n",
      "for name in names\n",
      "    print 'Hello ' name"
     ],
     "language": "python",
     "metadata": {},
     "outputs": []
    },
    {
     "cell_type": "markdown",
     "metadata": {
      "slideshow": {
       "slide_type": "slide"
      }
     },
     "source": [
      "## Ilaria, Mihaela and Simone: what's the problem?"
     ]
    },
    {
     "cell_type": "code",
     "collapsed": false,
     "input": [
      "from __future__ import division"
     ],
     "language": "python",
     "metadata": {
      "slideshow": {
       "slide_type": "skip"
      }
     },
     "outputs": [],
     "prompt_number": 26
    },
    {
     "cell_type": "code",
     "collapsed": false,
     "input": [
      "nr_boyfriends = raw_input('How many boyfriends did you have? ')\n",
      "nr_boyfriends = int(nr_boyfriends)\n",
      "\n",
      "age = raw_input('How old are you? ')\n",
      "age = int(age)\n",
      "\n",
      "avg_boyfriends = age/nr_boyfriends\n",
      "print 'That is an average of' , avg_boyfriends, ' boyfriend per year!'"
     ],
     "language": "python",
     "metadata": {},
     "outputs": []
    },
    {
     "cell_type": "markdown",
     "metadata": {},
     "source": [
      "* A point for the right answer on how to deal with this bug"
     ]
    },
    {
     "cell_type": "markdown",
     "metadata": {
      "slideshow": {
       "slide_type": "slide"
      }
     },
     "source": [
      "## Repairing the bug"
     ]
    },
    {
     "cell_type": "code",
     "collapsed": false,
     "input": [
      "if nr_boyfriends == 0:\n",
      "    avg_boyfriends = 0\n",
      "else:\n",
      "    avg_boyfriends = nr_boyfriends/age\n",
      "    \n",
      "print 'That is an average of' , avg_boyfriends, ' boyfriend per year!'"
     ],
     "language": "python",
     "metadata": {
      "slideshow": {
       "slide_type": "-"
      }
     },
     "outputs": []
    },
    {
     "cell_type": "markdown",
     "metadata": {
      "slideshow": {
       "slide_type": "slide"
      }
     },
     "source": [
      "## And what's wrong here?"
     ]
    },
    {
     "cell_type": "code",
     "collapsed": false,
     "input": [
      "names = ['Ilaria', 'Ivana', 'Mihaela', 'Simone']\n",
      "\n",
      "names[4] = 'Electric goat'"
     ],
     "language": "python",
     "metadata": {},
     "outputs": []
    },
    {
     "cell_type": "markdown",
     "metadata": {},
     "source": [
      "### And here?"
     ]
    },
    {
     "cell_type": "code",
     "collapsed": false,
     "input": [
      "print names[-1] + names[0]"
     ],
     "language": "python",
     "metadata": {},
     "outputs": []
    },
    {
     "cell_type": "markdown",
     "metadata": {
      "slideshow": {
       "slide_type": "slide"
      }
     },
     "source": [
      "### Wrap up and outlook\n",
      " \n",
      "* That is all for this term: various data types, if-then, for-loops\n",
      "\n",
      "* A compilation of exercises to appear on github (either I make them or I put links to exercises): https://github.com/ikajic/teach/tree/master/python-for-beginners\n",
      "\n",
      "* What you can do over the holidays: solve the homeworks you did not, improve the existing code, practice programming using the exercises\n",
      "\n",
      "* Ask me if you get stuck! (I get close to my computer over Christmas...)\n",
      "    \n",
      "* In 2015 we start with functions!"
     ]
    },
    {
     "cell_type": "markdown",
     "metadata": {
      "slideshow": {
       "slide_type": "slide"
      }
     },
     "source": [
      "## Now, let's take a look at your homeworks*\n",
      "\n",
      "<sub>* If they exist :) </sub>"
     ]
    }
   ],
   "metadata": {}
  }
 ]
}