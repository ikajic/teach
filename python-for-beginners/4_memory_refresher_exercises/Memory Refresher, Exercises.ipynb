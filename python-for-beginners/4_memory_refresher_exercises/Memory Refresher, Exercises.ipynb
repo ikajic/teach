{
 "metadata": {
  "celltoolbar": "Slideshow",
  "name": "",
  "signature": "sha256:838b147e5747f7e378913053fa2daf8c8a1c9c0e581c6fd0e3bbdc31b3c602ae"
 },
 "nbformat": 3,
 "nbformat_minor": 0,
 "worksheets": [
  {
   "cells": [
    {
     "cell_type": "markdown",
     "metadata": {
      "slideshow": {
       "slide_type": "slide"
      }
     },
     "source": [
      "# 4. Memory Refresher and Exercises\n",
      "\n",
      "11th November 2014\n",
      "\n",
      "Goals:\n",
      "\n",
      "* Rehearse what we've learned so far\n",
      "\n",
      "* Learn how to clean up phone messages"
     ]
    },
    {
     "cell_type": "markdown",
     "metadata": {
      "slideshow": {
       "slide_type": "slide"
      }
     },
     "source": [
      "## ...from the last time\n",
      "\n",
      "* We learned about another data type in Python: dictionary\n",
      "\n",
      "* For loops\n",
      "\n",
      "* Homeworks"
     ]
    },
    {
     "cell_type": "markdown",
     "metadata": {
      "slideshow": {
       "slide_type": "slide"
      }
     },
     "source": [
      "## What we know so far\n",
      "\n",
      "* Data types: numbers, text, logic values, sequences\n",
      "    \n",
      "* Flow control in the program: if-then, for loop\n",
      "\n",
      "* Getting input from the user with `raw_input`"
     ]
    },
    {
     "cell_type": "markdown",
     "metadata": {
      "slideshow": {
       "slide_type": "slide"
      }
     },
     "source": [
      "## Easy start\n",
      "\n",
      "* What kind of data type is `punctuations`?"
     ]
    },
    {
     "cell_type": "code",
     "collapsed": false,
     "input": [
      "punctuations = '_.,;:!?'"
     ],
     "language": "python",
     "metadata": {},
     "outputs": [],
     "prompt_number": 2
    },
    {
     "cell_type": "markdown",
     "metadata": {},
     "source": [
      "* How would you check how many punctuation characters there are?\n",
      "\n",
      "* Now, add the space character to the punctuations\n",
      "\n",
      "* How would you remove `_` from punctuation? \n",
      "\n",
      "* How would you print it in the reverse order?"
     ]
    },
    {
     "cell_type": "markdown",
     "metadata": {
      "slideshow": {
       "slide_type": "slide"
      }
     },
     "source": [
      "## Strings\n",
      "\n",
      "* Are defined in a pair of quotation marks (either `'` or `\"`)\n",
      "\n",
      "    * Try defining a string using each of them\n",
      "    \n",
      "* What if our string contains an apostrophe? "
     ]
    },
    {
     "cell_type": "code",
     "collapsed": false,
     "input": [
      "question = 'Hey, what's up?'"
     ],
     "language": "python",
     "metadata": {},
     "outputs": [
      {
       "ename": "SyntaxError",
       "evalue": "invalid syntax (<ipython-input-4-e4b39e9a8513>, line 1)",
       "output_type": "pyerr",
       "traceback": [
        "\u001b[1;36m  File \u001b[1;32m\"<ipython-input-4-e4b39e9a8513>\"\u001b[1;36m, line \u001b[1;32m1\u001b[0m\n\u001b[1;33m    question = 'Hey, what's up?'\u001b[0m\n\u001b[1;37m                          ^\u001b[0m\n\u001b[1;31mSyntaxError\u001b[0m\u001b[1;31m:\u001b[0m invalid syntax\n"
       ]
      }
     ],
     "prompt_number": 4
    },
    {
     "cell_type": "markdown",
     "metadata": {},
     "source": [
      "* How would you get the first 3 characters in the `question`?"
     ]
    },
    {
     "cell_type": "markdown",
     "metadata": {
      "slideshow": {
       "slide_type": "slide"
      }
     },
     "source": [
      "## Lists\n",
      "\n",
      "* What are some similarities between lists and strings?\n",
      "    * Which functions do you know that can be used on both? (e.g. `len` is one of them)\n",
      "\n",
      "* And what are main differences?\n",
      "\n",
      "* Would you use a string or a list for the following problem?\n",
      "    * To record how a user preformed on a quiz (store True/1/+ and False/0/- values)\n",
      "    * To store prices of the items you bought in a shop"
     ]
    },
    {
     "cell_type": "markdown",
     "metadata": {
      "slideshow": {
       "slide_type": "slide"
      }
     },
     "source": [
      "## Playing with lists\n"
     ]
    },
    {
     "cell_type": "code",
     "collapsed": false,
     "input": [
      "letters = ['z', 'd', 'a', 'c']\n",
      "random_numbers = [-3, 4, 0, 10]\n",
      "aranged_numbers = range(5)\n"
     ],
     "language": "python",
     "metadata": {},
     "outputs": [],
     "prompt_number": 8
    },
    {
     "cell_type": "markdown",
     "metadata": {},
     "source": [
      "* Add a random letter to the list letters and print the letters in the alphabetic order\n",
      "\n",
      "* At the position 2 insert number 100 in random_numbers\n",
      "\n",
      "* What is range doing? Print aranged_numbers in the reverse order\n",
      "\n",
      "* Create a new list alphanumeric which contains all the elements from letters, random_numbers and aranged_numbers\n",
      "    * Check what is the sorted output of that list\n"
     ]
    },
    {
     "cell_type": "markdown",
     "metadata": {
      "slideshow": {
       "slide_type": "slide"
      }
     },
     "source": [
      "## For-loops again"
     ]
    },
    {
     "cell_type": "code",
     "collapsed": false,
     "input": [
      "for each_element in sequence:\n",
      "    do_something with each_element"
     ],
     "language": "python",
     "metadata": {
      "slideshow": {
       "slide_type": "-"
      }
     },
     "outputs": []
    },
    {
     "cell_type": "markdown",
     "metadata": {
      "slideshow": {
       "slide_type": "slide"
      }
     },
     "source": [
      "## What is the difference between the two for loops?"
     ]
    },
    {
     "cell_type": "code",
     "collapsed": false,
     "input": [
      "salut = 'hello'"
     ],
     "language": "python",
     "metadata": {},
     "outputs": [],
     "prompt_number": 24
    },
    {
     "cell_type": "code",
     "collapsed": false,
     "input": [
      "for i in salut:\n",
      "    print i"
     ],
     "language": "python",
     "metadata": {},
     "outputs": [
      {
       "output_type": "stream",
       "stream": "stdout",
       "text": [
        "h\n",
        "e\n",
        "l\n",
        "l\n",
        "o\n"
       ]
      }
     ],
     "prompt_number": 25
    },
    {
     "cell_type": "code",
     "collapsed": false,
     "input": [
      "for i in range(len(salut)):\n",
      "    print salut[i]"
     ],
     "language": "python",
     "metadata": {},
     "outputs": [
      {
       "output_type": "stream",
       "stream": "stdout",
       "text": [
        "h\n",
        "e\n",
        "l\n",
        "l\n",
        "o\n"
       ]
      }
     ],
     "prompt_number": 26
    },
    {
     "cell_type": "markdown",
     "metadata": {
      "slideshow": {
       "slide_type": "slide"
      }
     },
     "source": [
      "## Homework\n",
      "\n",
      "* You're given a following sentence:"
     ]
    },
    {
     "cell_type": "code",
     "collapsed": false,
     "input": [
      "sentence = 'today is a  very nice day,but  we have to spend it in the lab.too   bad,no?'"
     ],
     "language": "python",
     "metadata": {},
     "outputs": [],
     "prompt_number": 21
    },
    {
     "cell_type": "markdown",
     "metadata": {},
     "source": [
      "* Write a program that counts the number of spaces in that sentence"
     ]
    },
    {
     "cell_type": "markdown",
     "metadata": {},
     "source": [
      "* Write a program which cleans up the text:\n",
      "\n",
      "    * Insert spaces after punctuation marks\n",
      "    \n",
      "    * Words are not separated by more than one space\n",
      "    \n",
      "    * The first letter after a dot should be capitalized\n",
      "    \n",
      "* You should get: 'Today is a very nice day, but we have to spend it in the lab. Too bad, no? '\n",
      "\n",
      "* Figure out how to insert new line after the dot, so you get:\n",
      "        Today is a very nice day, but we have to spend it in the lab. \n",
      "        Too bad, no?"
     ]
    }
   ],
   "metadata": {}
  }
 ]
}