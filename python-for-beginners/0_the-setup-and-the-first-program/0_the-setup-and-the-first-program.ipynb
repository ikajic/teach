{
 "metadata": {
  "celltoolbar": "Slideshow",
  "name": "",
  "signature": "sha256:b8dd9293ad6369b82afa5e69a629123c550321caff3c7330e4531b79335eec0f"
 },
 "nbformat": 3,
 "nbformat_minor": 0,
 "worksheets": [
  {
   "cells": [
    {
     "cell_type": "markdown",
     "metadata": {
      "slideshow": {
       "slide_type": "slide"
      }
     },
     "source": [
      "# 0. The setup and the first program\n",
      "\n",
      "1st October 2014\n",
      "\n",
      "Goal:\n",
      "\n",
      "* learn how to use the Canopy environment\n",
      "\n",
      "* understand the structure of a simple Python program\n",
      "\n",
      "* learn coding conventions in Python"
     ]
    },
    {
     "cell_type": "markdown",
     "metadata": {
      "slideshow": {
       "slide_type": "slide"
      }
     },
     "source": [
      "## Enthought Canopy\n",
      "\n",
      "Is a software bundle containing a Python interpreter, an editor, file browser and many Python packages. Canopy package manager enables dowloading and installation of new packages.\n",
      "\n",
      "It is simple to use and a simple programming interface is very suitable for people who have worked in Eclipse or Matlab. It can be downloaded here: \n",
      "\n",
      "[https://store.enthought.com/downloads/](https://store.enthought.com/downloads/)\n"
     ]
    },
    {
     "cell_type": "markdown",
     "metadata": {
      "slideshow": {
       "slide_type": "slide"
      }
     },
     "source": [
      "## Understanding Python code"
     ]
    },
    {
     "cell_type": "code",
     "collapsed": false,
     "input": [
      "def invite_friends(invited, to_add):\n",
      "    \"\"\"\n",
      "    This function adds new people to the list of invited people:\n",
      "    Input:\n",
      "        invited: the list of invited people\n",
      "        to_add: a person to add\n",
      "    Outuput:\n",
      "        the list of invited people\n",
      "    \"\"\"\n",
      "    if to_add in invited:\n",
      "        print \"Hey, we have already invited\", to_add\n",
      "    else:\n",
      "        invited.append(to_add)\n",
      "        \n",
      "    return invited\n",
      "\n",
      "friends = ['illaria', 'ivana', 'frank', 'jack']\n",
      "print \"We are having a party and \", friends, \" are coming!\"\n",
      "\n",
      "# maybe we should also invite other people?\n",
      "to_add = 'christos'\n",
      "\n",
      "new_friends = invite_friends(friends, to_add)\n",
      "print \"We also invited\", to_add, \", so now \", new_friends, \"are coming\""
     ],
     "language": "python",
     "metadata": {
      "slideshow": {
       "slide_type": "slide"
      }
     },
     "outputs": [
      {
       "output_type": "stream",
       "stream": "stdout",
       "text": [
        "We are having a party and  ['illaria', 'ivana', 'frank', 'jack']  are coming!\n",
        "We also invited christos , so now  ['illaria', 'ivana', 'frank', 'jack', 'christos'] are coming\n"
       ]
      }
     ],
     "prompt_number": 12
    },
    {
     "cell_type": "markdown",
     "metadata": {
      "slideshow": {
       "slide_type": "slide"
      }
     },
     "source": [
      "From the previous example:\n",
      "\n",
      "* Python does not have `begin`-`end` syntax, instead it uses indentation (4 spaces)\n",
      "\n",
      "* Data types are not explicitly mentioned\n",
      "\n",
      "* To display strings on the screen use the `print` statement\n",
      "\n",
      "* Functions are defined with `def`\n",
      "\n",
      "* Some statements end with `:`\n",
      "\n",
      "* Comments start with `#`\n",
      "\n",
      "* Documenting code can be done with docstrings, which is a text wrapped in triple quotes `\"\"\"`\n",
      "\n"
     ]
    },
    {
     "cell_type": "markdown",
     "metadata": {
      "slideshow": {
       "slide_type": "slide"
      }
     },
     "source": [
      "How does Python differ from the programming languages I previously used?\n",
      "\n",
      "* It depends on what you used previously :)"
     ]
    },
    {
     "cell_type": "code",
     "collapsed": false,
     "input": [
      "# numbering starts with zero\n",
      "\n",
      "fruit = ['apple', 'orange', 'pear', 'cherry']\n",
      "\n",
      "print fruit[0]\n",
      "print fruit[3]\n",
      "\n",
      "print len(fruit)"
     ],
     "language": "python",
     "metadata": {
      "slideshow": {
       "slide_type": "slide"
      }
     },
     "outputs": [
      {
       "output_type": "stream",
       "stream": "stdout",
       "text": [
        "apple\n",
        "cherry\n",
        "4\n"
       ]
      }
     ],
     "prompt_number": 13
    },
    {
     "cell_type": "code",
     "collapsed": false,
     "input": [
      "# exercise\n",
      "# can you guess what happens if you try this?\n",
      "print fruit[-1]\n",
      "\n",
      "# and this:\n",
      "print fruit[5]\n"
     ],
     "language": "python",
     "metadata": {
      "slideshow": {
       "slide_type": "subslide"
      }
     },
     "outputs": [],
     "prompt_number": 13
    },
    {
     "cell_type": "code",
     "collapsed": false,
     "input": [
      "# string manipulation is easy \n",
      "\n",
      "name = 'ilaria'\n",
      "surname = 'Torre'\n",
      "print name + surname\n",
      "\n",
      "print name.find('a')\n",
      "print name.capitalize()\n",
      "print ' '.join([name, surname])"
     ],
     "language": "python",
     "metadata": {
      "slideshow": {
       "slide_type": "subslide"
      }
     },
     "outputs": [
      {
       "output_type": "stream",
       "stream": "stdout",
       "text": [
        "ilariaTorre\n",
        "2\n",
        "Ilaria\n",
        "ilaria Torre\n"
       ]
      }
     ],
     "prompt_number": 14
    },
    {
     "cell_type": "markdown",
     "metadata": {
      "slideshow": {
       "slide_type": "slide"
      }
     },
     "source": [
      "# Useful commands\n",
      "\n",
      "* `ls`, `cd`, `pwd` to navigate the directories\n",
      "\n",
      "* `type`, `?`, `dir` to inspect an object in Python\n",
      "\n",
      "* tab-completion\n",
      "\n",
      "* IPython magic functions `%`: `%timeit`, `%run`, `%edit`, `%paste`, `%who`, `%whos`, `%hist`\n",
      "    * More exhaustive list: [http://damontallen.github.io/IPython-quick-ref-sheets/](http://damontallen.github.io/IPython-quick-ref-sheets/)\n",
      "    "
     ]
    },
    {
     "cell_type": "markdown",
     "metadata": {
      "slideshow": {
       "slide_type": "slide"
      }
     },
     "source": [
      "# Useful links\n",
      "\n",
      "* Official Python documentation: [https://docs.python.org/2/index.html](https://docs.python.org/2/index.html)\n",
      "\n",
      "* Style Guide for Python code: [http://legacy.python.org/dev/peps/pep-0008/](http://legacy.python.org/dev/peps/pep-0008/)\n",
      "\n",
      "* View these slides from your browser:\n",
      "    * Go to: [http://nbviewer.ipython.org/](http://nbviewer.ipython.org/)\n",
      "    * And paste the following link there: [https://github.com/ikajic/teach/blob/master/python-for-beginners/0_the-setup-and-the-first-program/0_the-setup-and-the-first-program.ipynb](https://github.com/ikajic/teach/blob/master/python-for-beginners/0_the-setup-and-the-first-program/0_the-setup-and-the-first-program.ipynb)"
     ]
    },
    {
     "cell_type": "markdown",
     "metadata": {
      "slideshow": {
       "slide_type": "slide"
      }
     },
     "source": [
      "# Next time\n",
      "\n",
      "* Data types: numeric, logic, strings, sequential \n",
      "\n",
      "* Python Built-in data types and operations\n",
      "\n",
      "* Conditional statements (`if-then-else`)\n",
      "\n",
      "* Comparison of built-in data types and the custom ones (e.g. using Numpy)"
     ]
    },
    {
     "cell_type": "markdown",
     "metadata": {
      "slideshow": {
       "slide_type": "slide"
      }
     },
     "source": [
      "# Homework\n",
      "\n",
      "* Familiarize yourself with the `%timeit` function. How long does it take to run the function `invite_friends`?\n",
      "\n",
      "* Find an input that will cause the execution of the other part of the if-statement. The other part is printing with the `print` statement\n",
      "\n",
      "* Try to \"break\" the program so that you get an error (i.e. such errors are called 'Exceptions')\n",
      "\n",
      "* Modify the program such that:\n",
      "    * the only allowed inputs are lists and strings, if the user provides something else let her know and exit the function\n",
      "    \n",
      "    * the returned list of friends is sorted"
     ]
    }
   ],
   "metadata": {}
  }
 ]
}