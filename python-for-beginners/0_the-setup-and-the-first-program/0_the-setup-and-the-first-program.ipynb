{
 "metadata": {
  "celltoolbar": "Slideshow",
  "name": "",
  "signature": "sha256:bf6166e7106543d3ecac8f665ad5278981fb330bde49c69c8e4fa236cd465da8"
 },
 "nbformat": 3,
 "nbformat_minor": 0,
 "worksheets": [
  {
   "cells": [
    {
     "cell_type": "markdown",
     "metadata": {
      "slideshow": {
       "slide_type": "slide"
      }
     },
     "source": [
      "# 0. The setup and the first program\n",
      "\n",
      "24th September 2014\n",
      "\n",
      "Goal:\n",
      "\n",
      "* learn how to use the Canopy environment\n",
      "\n",
      "* understand the structure of a simple Python program\n",
      "\n",
      "* learn coding convention in Python"
     ]
    },
    {
     "cell_type": "markdown",
     "metadata": {
      "slideshow": {
       "slide_type": "slide"
      }
     },
     "source": [
      "## Enthought Canopy\n",
      "\n",
      "Is a software bundle containing a Python interpreter, an editor, file browser and many Python packages. Canopy package manager enables dowloading and installation of new packages.\n",
      "\n",
      "It is simple to use and because of a simple programming interface very suitable for people who have worked in Eclipse or Matlab. It can be downloaded here: \n",
      "\n",
      "https://store.enthought.com/downloads/\n"
     ]
    },
    {
     "cell_type": "markdown",
     "metadata": {
      "slideshow": {
       "slide_type": "slide"
      }
     },
     "source": [
      "## Understanding Python code"
     ]
    },
    {
     "cell_type": "code",
     "collapsed": false,
     "input": [
      "def invite_friends(invited, to_add):\n",
      "    \"\"\"\n",
      "    This function adds new people to the list of invited people:\n",
      "    Input:\n",
      "        invited: the list of invited people\n",
      "        to_add: a person to add\n",
      "    Outuput:\n",
      "        the list of invited people\n",
      "    \"\"\"\n",
      "    if to_add in invited:\n",
      "        print \"Hey, we have already invited\", to_add\n",
      "    else:\n",
      "        invited.append(to_add)\n",
      "        \n",
      "    return invited\n",
      "\n",
      "friends = ['illaria', 'ivana', 'frank', 'jack']\n",
      "print \"We are having a party and \", friends, \" are coming!\"\n",
      "\n",
      "# maybe we should also invite other people?\n",
      "to_add = 'christos'\n",
      "\n",
      "new_friends = invite_friends(friends, to_add)\n",
      "print \"We also invited\", to_add, \", so now \", new_friends, \"are coming\""
     ],
     "language": "python",
     "metadata": {
      "slideshow": {
       "slide_type": "slide"
      }
     },
     "outputs": [
      {
       "output_type": "stream",
       "stream": "stdout",
       "text": [
        "We are having a party and  ['illaria', 'ivana', 'frank', 'jack']  are coming!\n",
        "We also invited christos , so now  ['illaria', 'ivana', 'frank', 'jack', 'christos'] are coming\n"
       ]
      }
     ],
     "prompt_number": 12
    },
    {
     "cell_type": "markdown",
     "metadata": {
      "slideshow": {
       "slide_type": "slide"
      }
     },
     "source": [
      "From the previous example:\n",
      "\n",
      "* Python does not have `begin`-`end` blocks, instead it uses indentation (4 spaces)\n",
      "\n",
      "* To display strings on the screen use the `print` statement\n",
      "\n",
      "* Functions are defined with `def`\n",
      "\n",
      "* Some statements end with `:`\n",
      "\n",
      "* Comments start with `#`\n",
      "\n",
      "* Documenting code can be done with docstrings, which is a text wrapped in triple quotes `\"\"\"`"
     ]
    },
    {
     "cell_type": "markdown",
     "metadata": {},
     "source": [
      "How does Python differ from the programming languages I previously used?\n",
      "\n",
      "* It depends on what you used previously :)"
     ]
    },
    {
     "cell_type": "code",
     "collapsed": false,
     "input": [
      "# numbering starts with zero\n",
      "\n",
      "fruit = ['apple', 'orange', 'pear', 'cherry']\n",
      "\n",
      "print fruit[0]\n",
      "print fruit[3]\n",
      "\n",
      "print len(fruit)"
     ],
     "language": "python",
     "metadata": {
      "slideshow": {
       "slide_type": "slide"
      }
     },
     "outputs": [
      {
       "output_type": "stream",
       "stream": "stdout",
       "text": [
        "apple\n",
        "cherry\n",
        "4\n"
       ]
      }
     ],
     "prompt_number": 13
    },
    {
     "cell_type": "code",
     "collapsed": false,
     "input": [
      "# exercise\n",
      "# can you guess what happens if you try this?\n",
      "print fruit[-1]\n",
      "\n",
      "# and this:\n",
      "print fruit[5]\n"
     ],
     "language": "python",
     "metadata": {
      "slideshow": {
       "slide_type": "subslide"
      }
     },
     "outputs": [],
     "prompt_number": 13
    },
    {
     "cell_type": "code",
     "collapsed": false,
     "input": [
      "# string manipulation is easy \n",
      "\n",
      "name = 'ilaria'\n",
      "surname = 'Torre'\n",
      "print name + surname\n",
      "\n",
      "print name.find('a')\n",
      "print name.capitalize()\n",
      "print ' '.join([name, surname])"
     ],
     "language": "python",
     "metadata": {
      "slideshow": {
       "slide_type": "subslide"
      }
     },
     "outputs": [
      {
       "output_type": "stream",
       "stream": "stdout",
       "text": [
        "ilariaTorre\n",
        "2\n",
        "Ilaria\n",
        "ilaria Torre\n"
       ]
      }
     ],
     "prompt_number": 14
    },
    {
     "cell_type": "code",
     "collapsed": false,
     "input": [],
     "language": "python",
     "metadata": {},
     "outputs": []
    }
   ],
   "metadata": {}
  }
 ]
}