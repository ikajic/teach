{
 "metadata": {
  "celltoolbar": "Slideshow",
  "name": "",
  "signature": "sha256:a4ef336eb93cc5e8f69fe3491fb39df0c8624c4f8c2b30faa14ae408738dfec8"
 },
 "nbformat": 3,
 "nbformat_minor": 0,
 "worksheets": [
  {
   "cells": [
    {
     "cell_type": "markdown",
     "metadata": {
      "slideshow": {
       "slide_type": "slide"
      }
     },
     "source": [
      "# 9. Functions (2nd part)\n",
      "\n",
      "21st April 2015\n",
      "\n",
      "Goals:\n",
      "\n",
      "* Learn more about function declarations (e.g. multiple outputs, multiple arguments...)\n",
      "\n",
      "* Homework: simple calculator"
     ]
    },
    {
     "cell_type": "markdown",
     "metadata": {
      "slideshow": {
       "slide_type": "slide"
      }
     },
     "source": [
      "## Homework & Questions?"
     ]
    },
    {
     "cell_type": "markdown",
     "metadata": {
      "slideshow": {
       "slide_type": "slide"
      }
     },
     "source": [
      "## A question from me\n",
      "\n",
      "1. What is the value of x?"
     ]
    },
    {
     "cell_type": "code",
     "collapsed": false,
     "input": [
      "def magic(x):\n",
      "    if type(x) is str:\n",
      "        y = x.capitalize()\n",
      "    else:\n",
      "        y = x\n",
      "    return y\n",
      "\n",
      "x1 = magic('hello!')\n",
      "x2 = magic(123)\n",
      "x3 = magic(magic(2))"
     ],
     "language": "python",
     "metadata": {},
     "outputs": [],
     "prompt_number": 30
    },
    {
     "cell_type": "markdown",
     "metadata": {
      "slideshow": {
       "slide_type": "slide"
      }
     },
     "source": [
      "## Multiple function parameters\n",
      "\n",
      "* It is possible to pass several arguments to the function\n",
      "\n",
      "* They will be assigned in the order they are passed\n"
     ]
    },
    {
     "cell_type": "code",
     "collapsed": false,
     "input": [
      "def addition(x, y):\n",
      "    return x + y\n",
      "\n",
      "a = 1\n",
      "b = 2\n",
      "print addition(a, b)"
     ],
     "language": "python",
     "metadata": {},
     "outputs": []
    },
    {
     "cell_type": "markdown",
     "metadata": {},
     "source": [
      "* Exercise: Try to pass one argument more or less and explain what happens"
     ]
    },
    {
     "cell_type": "markdown",
     "metadata": {
      "slideshow": {
       "slide_type": "slide"
      }
     },
     "source": [
      "## Multiple function outputs\n",
      "* It is also possible to return more than one value"
     ]
    },
    {
     "cell_type": "code",
     "collapsed": false,
     "input": [
      "def add_sub(a, b):\n",
      "    return a + b, a - b\n",
      "\n",
      "sum, difference = add_sub(2, 2)"
     ],
     "language": "python",
     "metadata": {},
     "outputs": []
    },
    {
     "cell_type": "markdown",
     "metadata": {},
     "source": [
      "* Exercise: try to fetch only one output when the function returns two and see what happens"
     ]
    },
    {
     "cell_type": "markdown",
     "metadata": {
      "slideshow": {
       "slide_type": "slide"
      }
     },
     "source": [
      "## What if our function had 5 parameters and we forget their order?\n"
     ]
    },
    {
     "cell_type": "code",
     "collapsed": false,
     "input": [
      "def name_roles(cook, waitress, cleaner, boss, guest):\n",
      "    ...\n",
      "    ...\n",
      "    \n",
      "name_roles('mihaela', 'ivana', 'ilaria', 'frank', 'michael')  # who is who?"
     ],
     "language": "python",
     "metadata": {},
     "outputs": []
    },
    {
     "cell_type": "markdown",
     "metadata": {
      "slideshow": {
       "slide_type": "slide"
      }
     },
     "source": [
      "## That's simple... pass the arguments by keyword"
     ]
    },
    {
     "cell_type": "markdown",
     "metadata": {},
     "source": [
      "* The order in which arguments are passed does not matter any more\n",
      "\n",
      "* Every argument has a unique parameter"
     ]
    },
    {
     "cell_type": "code",
     "collapsed": false,
     "input": [
      "def addition(a, b):\n",
      "    print 'a=', a\n",
      "    print 'b=', b\n",
      "    return a + b\n",
      "\n",
      "sum = addition(a=1, b=2)\n",
      "sum = addition(b=2, a=1)"
     ],
     "language": "python",
     "metadata": {},
     "outputs": []
    },
    {
     "cell_type": "markdown",
     "metadata": {},
     "source": [
      "* If a combination of keyword arguments and non-keyword arguments is used, then non-keyword arguments must come in front of keyword arguments"
     ]
    },
    {
     "cell_type": "markdown",
     "metadata": {
      "slideshow": {
       "slide_type": "slide"
      }
     },
     "source": [
      "## Default values\n",
      "\n",
      "* It is possible to set a default value of an argument, such that when no argument is passed this value is used"
     ]
    },
    {
     "cell_type": "code",
     "collapsed": false,
     "input": [
      "def say_hello(name='you'):\n",
      "    print 'Hello', name\n",
      "    \n",
      "say_hello('sunny day!')\n",
      "say_hello()"
     ],
     "language": "python",
     "metadata": {},
     "outputs": [
      {
       "output_type": "stream",
       "stream": "stdout",
       "text": [
        "Hello sunny day!\n",
        "Hello you\n"
       ]
      }
     ],
     "prompt_number": 34
    },
    {
     "cell_type": "markdown",
     "metadata": {},
     "source": [
      "* If there are default arguments, they need to come last in the function declaration\n",
      "\n",
      "* Q: So if we have keyword, non-keyword and default arguments, what is the order?"
     ]
    },
    {
     "cell_type": "markdown",
     "metadata": {
      "slideshow": {
       "slide_type": "slide"
      }
     },
     "source": [
      "## Homework\n",
      "\n",
      "* Create a file called `operations.py` with four functions (`add`, `sub`, `div` and `mul`)\n",
      "\n",
      "* Write the corresponding functions (every function should expect two arguments: `arg1` and `arg2`)\n",
      "\n",
      "* Download the file `main.py` from github and run it to test your functions\n",
      "\n",
      "* If the program stops somewhere, analyse the error and repair your code (write down somewhere why it did not work so we can discuss that together in the next class)"
     ]
    }
   ],
   "metadata": {}
  }
 ]
}