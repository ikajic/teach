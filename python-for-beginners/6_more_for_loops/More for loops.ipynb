{
 "metadata": {
  "celltoolbar": "Slideshow",
  "name": "",
  "signature": "sha256:e529bae9143cf541d0a442271bb36ee463beb991c42fe8e3f0a371c620015ea6"
 },
 "nbformat": 3,
 "nbformat_minor": 0,
 "worksheets": [
  {
   "cells": [
    {
     "cell_type": "markdown",
     "metadata": {
      "slideshow": {
       "slide_type": "slide"
      }
     },
     "source": [
      "# 5. More for-loops (yes, again...)\n",
      "\n",
      "27th November 2014\n",
      "\n",
      "Goals:\n",
      "\n",
      "* Get an understanding of the music analysis program\n",
      "\n",
      "* Practice for loops and see more advanced examples\n"
     ]
    },
    {
     "cell_type": "markdown",
     "metadata": {
      "slideshow": {
       "slide_type": "slide"
      }
     },
     "source": [
      "## ... from the last time\n",
      "\n",
      "* Let's see your homeworks first\n",
      "\n",
      "* ... and my solution (on github, lecture 5 content)"
     ]
    },
    {
     "cell_type": "markdown",
     "metadata": {
      "slideshow": {
       "slide_type": "slide"
      }
     },
     "source": [
      "## For-loops revisited\n",
      "\n",
      "* Why do for loops make our life easier?\n",
      "\n",
      "* How do they work?\n"
     ]
    },
    {
     "cell_type": "markdown",
     "metadata": {
      "slideshow": {
       "slide_type": "slide"
      }
     },
     "source": [
      "## What do these for loops do? (easy)"
     ]
    },
    {
     "cell_type": "code",
     "collapsed": false,
     "input": [
      "alphabet1 = ['a', 'b', 'c', 'd']\n",
      "alphabet2 = 'abcd'"
     ],
     "language": "python",
     "metadata": {},
     "outputs": [],
     "prompt_number": 21
    },
    {
     "cell_type": "code",
     "collapsed": false,
     "input": [
      "for i in alphabet1:\n",
      "    print i"
     ],
     "language": "python",
     "metadata": {},
     "outputs": []
    },
    {
     "cell_type": "code",
     "collapsed": false,
     "input": [
      "for j in alphabet2:\n",
      "    print j"
     ],
     "language": "python",
     "metadata": {},
     "outputs": []
    },
    {
     "cell_type": "markdown",
     "metadata": {
      "slideshow": {
       "slide_type": "slide"
      }
     },
     "source": [
      "## What does this for loop do? (not so easy)"
     ]
    },
    {
     "cell_type": "code",
     "collapsed": false,
     "input": [
      "music_collection = {'Arctic Monkeys': ['AM'],\n",
      "                    'Bastille': ['Bad Blood (2013)'],\n",
      "                    'Bat for Lashes': ['Two Suns'],\n",
      "                    'Beirut': ['Gulag Orkestar (2006)', 'The Rip Tide (2011)']}"
     ],
     "language": "python",
     "metadata": {},
     "outputs": [],
     "prompt_number": 7
    },
    {
     "cell_type": "code",
     "collapsed": false,
     "input": [
      "x = 0\n",
      "\n",
      "for artist in music_collection.keys():\n",
      "    if len(music_collection[artist]) < 2:\n",
      "        x = x+1"
     ],
     "language": "python",
     "metadata": {},
     "outputs": [],
     "prompt_number": 8
    },
    {
     "cell_type": "markdown",
     "metadata": {
      "slideshow": {
       "slide_type": "slide"
      }
     },
     "source": [
      "### In-class Exercises\n",
      "\n",
      "* Using a for-loop, write a program that gives you the sum of first 1000 numbers. What's the result?\n",
      "\n",
      "* Write a program that asks a user to give 10 numbers, and return the sum of all the odd numbers. (Reminder: odd numbers are numbers which when divided by 2 give a remainder 1)"
     ]
    },
    {
     "cell_type": "markdown",
     "metadata": {
      "slideshow": {
       "slide_type": "slide"
      }
     },
     "source": [
      "## Advanced for-loops"
     ]
    },
    {
     "cell_type": "markdown",
     "metadata": {},
     "source": [
      "It is very common that we want to operate on elements of an array but also use indexing for each element. \n",
      "For example imagine a following list:"
     ]
    },
    {
     "cell_type": "code",
     "collapsed": false,
     "input": [
      "winners = ['Duck', 'Cat', 'Elephant', 'Dog']"
     ],
     "language": "python",
     "metadata": {},
     "outputs": [],
     "prompt_number": 24
    },
    {
     "cell_type": "markdown",
     "metadata": {},
     "source": [
      "How would you write a program that prints the rank of the winning animal and the animal's name?"
     ]
    },
    {
     "cell_type": "markdown",
     "metadata": {},
     "source": [
      "Duck arrived 1\n",
      "\n",
      "Cat arrived 2\n",
      "\n",
      "Elephant arrived 3\n",
      "\n",
      "Dog arrived 4\n"
     ]
    },
    {
     "cell_type": "markdown",
     "metadata": {
      "slideshow": {
       "slide_type": "slide"
      }
     },
     "source": [
      "## `enumerate`\n",
      "\n",
      "* There is a very easy way in Python do to so:"
     ]
    },
    {
     "cell_type": "code",
     "collapsed": false,
     "input": [
      "winners = ['Duck', 'Cat', 'Elephant', 'Dog']"
     ],
     "language": "python",
     "metadata": {},
     "outputs": [],
     "prompt_number": 25
    },
    {
     "cell_type": "code",
     "collapsed": false,
     "input": [
      "for i, animal in enumerate(winners):\n",
      "    print animal, 'arrived', i+1"
     ],
     "language": "python",
     "metadata": {},
     "outputs": [
      {
       "output_type": "stream",
       "stream": "stdout",
       "text": [
        "Duck arrived 1\n",
        "Cat arrived 2\n",
        "Elephant arrived 3\n",
        "Dog arrived 4\n"
       ]
      }
     ],
     "prompt_number": 26
    },
    {
     "cell_type": "markdown",
     "metadata": {},
     "source": [
      "* Q: Why do we need `i+1` in the above example?"
     ]
    },
    {
     "cell_type": "markdown",
     "metadata": {
      "slideshow": {
       "slide_type": "slide"
      }
     },
     "source": [
      "## Exercise\n",
      "\n",
      "* Q: How would you get a following output (numbers in a row are separated by a space):"
     ]
    },
    {
     "cell_type": "markdown",
     "metadata": {},
     "source": [
      "1 1\n",
      "\n",
      "1 2\n",
      "\n",
      "1 3\n",
      "\n",
      "1 4\n",
      "\n",
      "1 5\n",
      "\n",
      "2 1 \n",
      "\n",
      "2 2\n",
      "\n",
      "2 3\n",
      "\n",
      "2 4\n",
      "\n",
      "...\n",
      "\n",
      "5 5"
     ]
    },
    {
     "cell_type": "markdown",
     "metadata": {
      "slideshow": {
       "slide_type": "slide"
      }
     },
     "source": [
      "## Nested for-loop"
     ]
    },
    {
     "cell_type": "code",
     "collapsed": false,
     "input": [
      "for i in range(5):\n",
      "    for j in range(5):\n",
      "        print i+1, j+1"
     ],
     "language": "python",
     "metadata": {},
     "outputs": [
      {
       "output_type": "stream",
       "stream": "stdout",
       "text": [
        "1 1\n",
        "1 2\n",
        "1 3\n",
        "1 4\n",
        "1 5\n",
        "2 1\n",
        "2 2\n",
        "2 3\n",
        "2 4\n",
        "2 5\n",
        "3 1\n",
        "3 2\n",
        "3 3\n",
        "3 4\n",
        "3 5\n",
        "4 1\n",
        "4 2\n",
        "4 3\n",
        "4 4\n",
        "4 5\n",
        "5 1\n",
        "5 2\n",
        "5 3\n",
        "5 4\n",
        "5 5\n"
       ]
      }
     ],
     "prompt_number": 20
    },
    {
     "cell_type": "markdown",
     "metadata": {
      "slideshow": {
       "slide_type": "slide"
      }
     },
     "source": [
      "## Homework\n",
      "\n",
      "**The task**: Change the code from the previous homework, so that you find the *oldest* and the *newest album* in my music collection. Remember, I am a messy user so not all albums have a year of the production in the title, in that case you should consider only albums with a year in the title.\n",
      "\n",
      "**Few hints**: Before you start solving that task, first try to solve a simpler problem. In a given string (you can invent your own), how would you find whether there is a certain pattern? If there is, how would you extract such a pattern? Take a look into the album names to see if there's a pattern that can be useful to you.\n",
      "\n",
      "**Recommendation**: It would be good to re-use your own code, and change it to support the new request. It is important that you make mistakes and find ways to solve them, as you make progress. If you get stuck, ask me for help. Alternatively, you can use my code on github, but make sure you understand it before you try to implement new stuff (just ask me if something is not clear)."
     ]
    }
   ],
   "metadata": {}
  }
 ]
}