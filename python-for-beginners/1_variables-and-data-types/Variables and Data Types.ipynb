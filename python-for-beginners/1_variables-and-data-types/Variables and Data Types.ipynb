{
 "metadata": {
  "celltoolbar": "Slideshow",
  "name": "",
  "signature": "sha256:a8e92de38832b28007545375560abb66b9de199a4d5c748f37bafb64050a46fc"
 },
 "nbformat": 3,
 "nbformat_minor": 0,
 "worksheets": [
  {
   "cells": [
    {
     "cell_type": "markdown",
     "metadata": {
      "slideshow": {
       "slide_type": "slide"
      }
     },
     "source": [
      "# 1. Variables and data types\n",
      "\n",
      "10th October 2014\n",
      "\n",
      "Goal:\n",
      "\n",
      "* Understand what a variable is\n",
      "\n",
      "* Learn different data types in Python\n",
      "\n",
      "* Write simple Python code to deal with variables and simple data types\n"
     ]
    },
    {
     "cell_type": "markdown",
     "metadata": {
      "slideshow": {
       "slide_type": "slide"
      }
     },
     "source": [
      "## ...from the last time\n",
      "\n",
      "* Any questions about the homework?\n",
      "\n",
      "* Today we will do some simple coding: display text on the screen, interact with the input from the user\n",
      "    "
     ]
    },
    {
     "cell_type": "markdown",
     "metadata": {
      "slideshow": {
       "slide_type": "slide"
      }
     },
     "source": [
      "## What is a variable?\n",
      "\n",
      "* From Latin: *vari\u0101bilis*\n",
      "\n",
      "* Think of variable as a container where you can store different things (sugar, coffee, flour...)\n",
      "\n",
      "* Examples of some variables: your age, weather, price of a book..."
     ]
    },
    {
     "cell_type": "code",
     "collapsed": false,
     "input": [
      "# examples of variables of different types in Python\n",
      "\n",
      "age = 23\n",
      "weather = 'sunny'\n",
      "price = 12.34"
     ],
     "language": "python",
     "metadata": {},
     "outputs": [],
     "prompt_number": 1
    },
    {
     "cell_type": "markdown",
     "metadata": {
      "slideshow": {
       "slide_type": "slide"
      }
     },
     "source": [
      "## How to define a variable\n",
      "\n",
      "* Using the assignment sign `=`\n",
      "\n",
      "* The variable names should not contain spaces (use underscore `_` instead) or start with numbers\n",
      "\n",
      "* You are not allowed to use the reserved Python words or symbols for variable names"
     ]
    },
    {
     "cell_type": "markdown",
     "metadata": {
      "slideshow": {
       "slide_type": "slide"
      }
     },
     "source": [
      "What isn't a valid variable name and why?\n",
      "\n",
      "a) `_number_of_houses`\n",
      "\n",
      "b) `green-chairs`\n",
      "\n",
      "c) `house1`\n",
      "\n",
      "d) `1house`\n",
      "\n",
      "e) `date year`\n",
      "\n",
      "f) `a`\n",
      "\n",
      "g) `print`\n",
      "\n",
      "h) `variable`"
     ]
    },
    {
     "cell_type": "markdown",
     "metadata": {
      "slideshow": {
       "slide_type": "slide"
      }
     },
     "source": [
      "## Exercise 1\n",
      "\n",
      "* Start Canopy and create a new file '`variables.py`'\n",
      "\n",
      "* Define the variables from the previous example in that file and print their values (to run use the green arrow from the menu)\n",
      "\n",
      "* Print their values and chek their type using the console in Canopy\n"
     ]
    },
    {
     "cell_type": "code",
     "collapsed": false,
     "input": [
      "print age\n",
      "print weather\n",
      "print price\n"
     ],
     "language": "python",
     "metadata": {
      "slideshow": {
       "slide_type": "slide"
      }
     },
     "outputs": [
      {
       "output_type": "stream",
       "stream": "stdout",
       "text": [
        "23\n",
        "sunny\n",
        "12.34\n"
       ]
      }
     ],
     "prompt_number": 2
    },
    {
     "cell_type": "code",
     "collapsed": false,
     "input": [
      "print type(age)\n",
      "print type(weather)\n",
      "print type(price)"
     ],
     "language": "python",
     "metadata": {},
     "outputs": [
      {
       "output_type": "stream",
       "stream": "stdout",
       "text": [
        "<type 'int'>\n",
        "<type 'str'>\n",
        "<type 'float'>\n"
       ]
      }
     ],
     "prompt_number": 3
    },
    {
     "cell_type": "markdown",
     "metadata": {
      "slideshow": {
       "slide_type": "slide"
      }
     },
     "source": [
      "## Exercise 2\n",
      "\n",
      "* Try printing the value of a variable `student_id`. What happens?\n",
      "\n",
      "* How would you check which variables are defined?\n",
      "\n",
      "* What do you do if you assign a wrong value to a variable?"
     ]
    },
    {
     "cell_type": "code",
     "collapsed": false,
     "input": [
      "print student_id"
     ],
     "language": "python",
     "metadata": {
      "slideshow": {
       "slide_type": "slide"
      }
     },
     "outputs": [
      {
       "ename": "NameError",
       "evalue": "name 'student_id' is not defined",
       "output_type": "pyerr",
       "traceback": [
        "\u001b[1;31m---------------------------------------------------------------------------\u001b[0m\n\u001b[1;31mNameError\u001b[0m                                 Traceback (most recent call last)",
        "\u001b[1;32m<ipython-input-4-c1194e634169>\u001b[0m in \u001b[0;36m<module>\u001b[1;34m()\u001b[0m\n\u001b[1;32m----> 1\u001b[1;33m \u001b[1;32mprint\u001b[0m \u001b[0mstudent_id\u001b[0m\u001b[1;33m\u001b[0m\u001b[0m\n\u001b[0m",
        "\u001b[1;31mNameError\u001b[0m: name 'student_id' is not defined"
       ]
      }
     ],
     "prompt_number": 4
    },
    {
     "cell_type": "code",
     "collapsed": false,
     "input": [
      "%whos"
     ],
     "language": "python",
     "metadata": {
      "slideshow": {
       "slide_type": "slide"
      }
     },
     "outputs": [
      {
       "output_type": "stream",
       "stream": "stdout",
       "text": [
        "Variable   Type     Data/Info\n",
        "-----------------------------\n",
        "age        int      23\n",
        "price      float    12.34\n",
        "weather    str      sunny\n"
       ]
      }
     ],
     "prompt_number": 5
    },
    {
     "cell_type": "code",
     "collapsed": false,
     "input": [
      "print age\n",
      "age = 99 # just re-assign the value\n",
      "print age"
     ],
     "language": "python",
     "metadata": {},
     "outputs": [
      {
       "output_type": "stream",
       "stream": "stdout",
       "text": [
        "23\n",
        "99\n"
       ]
      }
     ],
     "prompt_number": 6
    },
    {
     "cell_type": "markdown",
     "metadata": {
      "slideshow": {
       "slide_type": "slide"
      }
     },
     "source": [
      "## Getting information from the user\n",
      "\n",
      "Ask the user for some information using the `raw_input` command\n"
     ]
    },
    {
     "cell_type": "code",
     "collapsed": false,
     "input": [
      "name = raw_input('What is your name? ')"
     ],
     "language": "python",
     "metadata": {},
     "outputs": []
    },
    {
     "cell_type": "code",
     "collapsed": false,
     "input": [
      "print name"
     ],
     "language": "python",
     "metadata": {},
     "outputs": []
    },
    {
     "cell_type": "markdown",
     "metadata": {
      "slideshow": {
       "slide_type": "slide"
      }
     },
     "source": [
      "## Data types\n",
      "\n",
      "In Python (and many other programming languages), we have different data types:\n",
      "\n",
      "* numeric: deal with numbers such as **integers** (`1, 0, -2, 100`) and floats (`1.1, 0.4, -1234.4`)\n",
      "\n",
      "* text: to deal with words and text we have **strings** (`'Mihaela and Ilaria'`, `'102'`)\n",
      "\n",
      "* logical: to deal with binary **boolean** values ('`True`',  '`False`')\n",
      "\n",
      "* sequences: to store multiple values such as **lists** (['rainy day', 100, -211.])\n"
     ]
    },
    {
     "cell_type": "markdown",
     "metadata": {
      "slideshow": {
       "slide_type": "slide"
      }
     },
     "source": [
      "## Operations\n",
      "\n",
      "We can manipulate variables by using various operations: addition (`+`), subtraction (`-`), multiplication (`*`), division (`\\`)\n",
      "\n",
      "There are also logical operations for boolean variables: `and`, `or`, `not`\n",
      "\n",
      "Use `==` to check if two variables are equal and `!=` to check whether they are not equal\n"
     ]
    },
    {
     "cell_type": "code",
     "collapsed": false,
     "input": [
      "year = '1992'\n",
      "month = 'January'\n",
      "print month + year # here we add text\n",
      "\n",
      "year_born = 1992\n",
      "old = 20\n",
      "print year_born + old # and here we add numbers\n",
      "\n",
      "print year_born + old == 2012 # checking if the two values are equal"
     ],
     "language": "python",
     "metadata": {
      "slideshow": {
       "slide_type": "slide"
      }
     },
     "outputs": [
      {
       "output_type": "stream",
       "stream": "stdout",
       "text": [
        "January1992\n",
        "2012\n",
        "True\n"
       ]
      }
     ],
     "prompt_number": 2
    },
    {
     "cell_type": "markdown",
     "metadata": {
      "slideshow": {
       "slide_type": "slide"
      }
     },
     "source": [
      "## Exercise 3\n",
      "\n",
      "In Roboland, the land of creative robots, robots eat robochocolate and drink robotea. A price for a robochocolate is 1 RC and for a robotea 0.8 RC (RC is robot currency, 1RC = 1.2 EUR = 0.95 GBP). \n",
      "\n",
      "* Fist, define two variables, one for a robochocolate and one for robotea\n",
      "\n",
      "Now, a human being visits the land of creative robots and comes to a store \"Robesco\".\n",
      "\n",
      "* Ask the human for the name, surname and country and welcome him/her\n",
      "\n",
      "* Then, ask the human how many robochocolates and how many roboteas does s/he want\n",
      "\n"
     ]
    },
    {
     "cell_type": "markdown",
     "metadata": {
      "slideshow": {
       "slide_type": "slide"
      }
     },
     "source": [
      "## Exercise 3 cont'd\n",
      "\n",
      "But, for humans buying in \"Robesco\" prices are lower by 10%:\n",
      "\n",
      "* Compute how much does the human have to pay for the robotea and robochocolate and print the message on the screen\n",
      "\n",
      "Humans can sometimes be very confused about the different currencies:\n",
      "\n",
      "* To make it easier for our poor human, print the price in EUR and GBP\n"
     ]
    },
    {
     "cell_type": "markdown",
     "metadata": {
      "slideshow": {
       "slide_type": "slide"
      }
     },
     "source": [
      "## Next time\n",
      "\n",
      "- Will be in two weeks\n",
      "\n",
      "- We will continue playing with variables, accessing and changing their values \n",
      "\n",
      "- Learn `if-then` statements (so called branching) and do more cool stuff!"
     ]
    }
   ],
   "metadata": {}
  }
 ]
}