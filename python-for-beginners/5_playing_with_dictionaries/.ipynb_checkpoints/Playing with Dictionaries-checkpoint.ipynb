{
 "metadata": {
  "celltoolbar": "Slideshow",
  "name": "",
  "signature": "sha256:ebc13f7bf8c6389a6af8135bb19eacd1294769d1ffe8f8f79229e794e984993a"
 },
 "nbformat": 3,
 "nbformat_minor": 0,
 "worksheets": [
  {
   "cells": [
    {
     "cell_type": "markdown",
     "metadata": {
      "slideshow": {
       "slide_type": "slide"
      }
     },
     "source": [
      "# 5. Playing with dictionaries\n",
      "\n",
      "20th November 2014\n",
      "\n",
      "Goals:\n",
      "\n",
      "* Master the dictionary data type by writing a program that analyses my music collection\n"
     ]
    },
    {
     "cell_type": "markdown",
     "metadata": {
      "slideshow": {
       "slide_type": "slide"
      }
     },
     "source": [
      "## ... from the last time \n",
      "\n",
      "* How was the homework?\n",
      "\n",
      "* Last time we have explored lists and strings, and all the nice things that can be done with them\n",
      "\n",
      "* Today we use that knowledge + dictionaries to write a useful program"
     ]
    },
    {
     "cell_type": "markdown",
     "metadata": {
      "slideshow": {
       "slide_type": "slide"
      }
     },
     "source": [
      "## Quick reminder\n",
      "\n",
      "* Dictionary is a data type, it let us store all kinds of data and address them:"
     ]
    },
    {
     "cell_type": "code",
     "collapsed": false,
     "input": [
      "from IPython.display import Image\n",
      "Image(url='https://shard4.1stdibs.us.com/archivesB/upload/1stdibsC/031209_sb/leeStantonLA/1/DSC_0429.jpg', width=200)"
     ],
     "language": "python",
     "metadata": {},
     "outputs": [
      {
       "html": [
        "<img src=\"https://shard4.1stdibs.us.com/archivesB/upload/1stdibsC/031209_sb/leeStantonLA/1/DSC_0429.jpg\" width=\"200\"/>"
       ],
       "metadata": {},
       "output_type": "pyout",
       "prompt_number": 11,
       "text": [
        "<IPython.core.display.Image at 0x2462290>"
       ]
      }
     ],
     "prompt_number": 11
    },
    {
     "cell_type": "code",
     "collapsed": false,
     "input": [
      "people = {'ivana': 18,\n",
      "          'mihaela': 17, \n",
      "          'ilaria': 18, \n",
      "          }"
     ],
     "language": "python",
     "metadata": {
      "slideshow": {
       "slide_type": "slide"
      }
     },
     "outputs": [],
     "prompt_number": 12
    },
    {
     "cell_type": "markdown",
     "metadata": {},
     "source": [
      "* How do you define a dictionary?\n",
      "\n",
      "* What are the keys and what are the values?\n",
      "\n",
      "* What is the command to find the keys and the values in Python?\n",
      "\n",
      "* How to access dictionary elements?"
     ]
    },
    {
     "cell_type": "markdown",
     "metadata": {
      "slideshow": {
       "slide_type": "slide"
      }
     },
     "source": [
      "## The problem for today\n",
      "\n",
      "Analysing Ivana's music collection!\n",
      "\n",
      "* We have `Music` directory on our computer and we want to write a script that helps us answer following questions:\n",
      "    * How many different artists there are in my collection\n",
      "    * How many albums/CDs do I have\n",
      "    * Which artist in my collection has the most albums\n",
      "    * What's the oldest and the newest album in the collection\n",
      "    * ..."
     ]
    },
    {
     "cell_type": "markdown",
     "metadata": {
      "slideshow": {
       "slide_type": "slide"
      }
     },
     "source": [
      "## Starting point\n",
      "\n",
      "* We have a text file containing a list of artists and albums is provided and is called `ivana_music.txt`\n",
      "\n",
      "* Here are a first few lines:\n",
      "\n",
      "```\n",
      "Arctic Monkeys: AM\n",
      "\n",
      "Bastille: Bad Blood (2013)\n",
      "\n",
      "Bat for Lashes: Two Suns\n",
      "\n",
      "Beirut: Gulag Orkestar (2006)\n",
      "\n",
      "Beirut: The Rip Tide (2011)\n",
      "\n",
      "Birdy: Birdy (2011)\n",
      "\n",
      "Bombay Bicycle Club: A different Kind of Fix (2011)\n",
      "\n",
      "Bombay Bicycle Club: Flaws (2010)\n",
      "\n",
      "Bombay Bicycle Club: I Had the Blues But I shook them Loose (2009)\n",
      "\n",
      "Bombay Bicycle Club: So Long, See You Tomorrow (2014)\n",
      "\n",
      "```"
     ]
    },
    {
     "cell_type": "markdown",
     "metadata": {
      "slideshow": {
       "slide_type": "slide"
      }
     },
     "source": [
      "## Dealing with text files\n"
     ]
    },
    {
     "cell_type": "markdown",
     "metadata": {
      "slideshow": {
       "slide_type": "-"
      }
     },
     "source": [
      "* Python gives us a way to open a textual file on the disk and then do whatever we want with it\n",
      "\n",
      "* We can just read the content, but we can also modify it, write new stuff or even create new files (be careful here!)\n",
      "\n",
      "* In this example, we will just read from the existing file, without changing it "
     ]
    },
    {
     "cell_type": "code",
     "collapsed": false,
     "input": [
      "f = open('ivana_music.txt')\n",
      "print type(f)"
     ],
     "language": "python",
     "metadata": {},
     "outputs": [
      {
       "output_type": "stream",
       "stream": "stdout",
       "text": [
        "<type 'file'>\n"
       ]
      }
     ],
     "prompt_number": 9
    },
    {
     "cell_type": "code",
     "collapsed": false,
     "input": [
      "for line in f.readlines():\n",
      "    print line"
     ],
     "language": "python",
     "metadata": {},
     "outputs": []
    },
    {
     "cell_type": "markdown",
     "metadata": {
      "slideshow": {
       "slide_type": "slide"
      }
     },
     "source": [
      "## Ideas for the homework\n",
      "\n",
      "* Write up the program we have been developing in the class\n",
      "\n",
      "* Download the `ivana_music.txt` from my GitHub account (it's located where the slides are)\n",
      "\n",
      "* Improve parsing of the text (find a way to better separate the artist name from the album title)\n",
      "\n",
      "* Print the albums in the alphabetical order\n",
      "\n",
      "* Instead of printing info about my music collection onto the screen, store it in a text file (e.g. `about_ivanas_music.txt`)"
     ]
    }
   ],
   "metadata": {}
  }
 ]
}