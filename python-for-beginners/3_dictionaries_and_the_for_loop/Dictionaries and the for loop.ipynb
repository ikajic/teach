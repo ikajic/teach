{
 "metadata": {
  "celltoolbar": "Slideshow",
  "name": "",
  "signature": "sha256:5172fe39017ad45677bd385dedfdf9d0b778c8fcf00dc6487f009ce10e3ca20f"
 },
 "nbformat": 3,
 "nbformat_minor": 0,
 "worksheets": [
  {
   "cells": [
    {
     "cell_type": "markdown",
     "metadata": {
      "slideshow": {
       "slide_type": "slide"
      }
     },
     "source": [
      "# 3. Dictionaries and the for loop\n",
      "\n",
      "29th October 2014\n",
      "\n",
      "Goals:\n",
      "\n",
      "* Have fun with the quiz!\n",
      "* Learn about another advanced data type: dictionary\n",
      "* Learn how the `for` loop works\n",
      "\n"
     ]
    },
    {
     "cell_type": "markdown",
     "metadata": {
      "slideshow": {
       "slide_type": "slide"
      }
     },
     "source": [
      "## ... from the last time\n",
      "\n",
      "* Let's try solving the quiz and look at the code\n",
      "\n",
      "* We learned about lists and `if-then-else` conditionals (we will need that knowledge, now and for ever!)\n",
      "    * Questions?"
     ]
    },
    {
     "cell_type": "markdown",
     "metadata": {
      "slideshow": {
       "slide_type": "slide"
      }
     },
     "source": [
      "## Dictionary\n",
      "\n",
      "* An unordered set of name-value pairs\n",
      "\n",
      "* Imagine it like having a big cupboard with drawers (old style pharmacies) where each drawer has a unique **name** and you can put some **stuff** into it\n",
      "\n",
      "* But you can also re-order the drawers, so what is in row 3 column 2 might change at some other time"
     ]
    },
    {
     "cell_type": "code",
     "collapsed": false,
     "input": [
      "from IPython.display import Image\n",
      "Image(url='https://shard4.1stdibs.us.com/archivesB/upload/1stdibsC/031209_sb/leeStantonLA/1/DSC_0429.jpg', width=200)\n"
     ],
     "language": "python",
     "metadata": {},
     "outputs": [
      {
       "html": [
        "<img src=\"https://shard4.1stdibs.us.com/archivesB/upload/1stdibsC/031209_sb/leeStantonLA/1/DSC_0429.jpg\" width=\"200\"/>"
       ],
       "metadata": {},
       "output_type": "pyout",
       "prompt_number": 2,
       "text": [
        "<IPython.core.display.Image at 0x2b2f490>"
       ]
      }
     ],
     "prompt_number": 2
    },
    {
     "cell_type": "markdown",
     "metadata": {
      "slideshow": {
       "slide_type": "slide"
      }
     },
     "source": [
      "## Dictionaries cont'd\n",
      "\n",
      "* Try in Python:"
     ]
    },
    {
     "cell_type": "code",
     "collapsed": false,
     "input": [
      "cities = {'Croatia': 'Zagreb',\n",
      "          'Italy': 'Rome',\n",
      "          'Romania': 'Bucharest',\n",
      "          'Germany': 'Berlin'}"
     ],
     "language": "python",
     "metadata": {},
     "outputs": [],
     "prompt_number": 3
    },
    {
     "cell_type": "code",
     "collapsed": false,
     "input": [
      "print cities"
     ],
     "language": "python",
     "metadata": {},
     "outputs": [
      {
       "output_type": "stream",
       "stream": "stdout",
       "text": [
        "{'Italy': 'Rome', 'Romania': 'Bucharest', 'Germany': 'Berlin', 'Croatia': 'Zagreb'}\n"
       ]
      }
     ],
     "prompt_number": 4
    },
    {
     "cell_type": "code",
     "collapsed": false,
     "input": [
      "print cities['Italy']"
     ],
     "language": "python",
     "metadata": {},
     "outputs": [
      {
       "output_type": "stream",
       "stream": "stdout",
       "text": [
        "Rome\n"
       ]
      }
     ],
     "prompt_number": 5
    },
    {
     "cell_type": "code",
     "collapsed": false,
     "input": [
      "type(cities)"
     ],
     "language": "python",
     "metadata": {},
     "outputs": [
      {
       "metadata": {},
       "output_type": "pyout",
       "prompt_number": 6,
       "text": [
        "dict"
       ]
      }
     ],
     "prompt_number": 6
    },
    {
     "cell_type": "markdown",
     "metadata": {
      "slideshow": {
       "slide_type": "slide"
      }
     },
     "source": [
      "## How do I create a dictionary?\n",
      "\n",
      "* Defined with curly brackets `{}`, each element of the dictionary is separated by a coma\n",
      "\n",
      "* Elements have two parts separated by a colon `:`\n",
      "    * The part before the colon is the **unique** name of the element (also called ID or key)\n",
      "    * The part after the colon is the value \n",
      "    \n",
      "* Elements are not in order"
     ]
    },
    {
     "cell_type": "code",
     "collapsed": false,
     "input": [
      "a = {2013: 1, 2011: 3, 2014:6}"
     ],
     "language": "python",
     "metadata": {},
     "outputs": [],
     "prompt_number": 7
    },
    {
     "cell_type": "code",
     "collapsed": false,
     "input": [
      "a.keys()"
     ],
     "language": "python",
     "metadata": {},
     "outputs": [
      {
       "metadata": {},
       "output_type": "pyout",
       "prompt_number": 8,
       "text": [
        "[2011, 2013, 2014]"
       ]
      }
     ],
     "prompt_number": 8
    },
    {
     "cell_type": "code",
     "collapsed": false,
     "input": [
      "a.values()"
     ],
     "language": "python",
     "metadata": {},
     "outputs": [
      {
       "metadata": {},
       "output_type": "pyout",
       "prompt_number": 9,
       "text": [
        "[3, 1, 6]"
       ]
      }
     ],
     "prompt_number": 9
    },
    {
     "cell_type": "markdown",
     "metadata": {
      "slideshow": {
       "slide_type": "slide"
      }
     },
     "source": [
      "## Exercise 1\n",
      "\n",
      "* How would you check the number of elements in a dictionary?\n",
      "\n",
      "* Any ideas on how to add an element to the dictionary?\n",
      "\n",
      "* Add more cities to the dictionary we had before:"
     ]
    },
    {
     "cell_type": "code",
     "collapsed": false,
     "input": [
      "cities = {'Croatia': 'Zagreb',\n",
      "          'Italy': 'Rome',\n",
      "          'Romania':  'Bucharest',\n",
      "          'Germany': 'Berlin'}"
     ],
     "language": "python",
     "metadata": {},
     "outputs": [],
     "prompt_number": 10
    },
    {
     "cell_type": "markdown",
     "metadata": {},
     "source": [
      "## Exercise 2\n",
      "\n",
      "* Explore the following functions defined on dictionaries: **has_key**, **pop**\n",
      "\n",
      "* Now ask a user which country s/he visited and remove it from the list\n",
      "\n",
      "* Does your program also work if the user picks a country which is not in the list?\n",
      "    * If not, try fixing it!"
     ]
    },
    {
     "cell_type": "markdown",
     "metadata": {
      "slideshow": {
       "slide_type": "slide"
      }
     },
     "source": [
      "## Solution "
     ]
    },
    {
     "cell_type": "code",
     "collapsed": false,
     "input": [
      "to_remove = raw_input('Which country did you visit? ')\n",
      "\n",
      "if cities.has_key(to_remove):\n",
      "    print 'Removing:', cities.pop(to_remove)\n",
      "else:\n",
      "    print 'Sorry, it seems ', to_remove, ' is not on the list'"
     ],
     "language": "python",
     "metadata": {},
     "outputs": [
      {
       "name": "stdout",
       "output_type": "stream",
       "stream": "stdout",
       "text": [
        "Which country did you visit? Germany\n"
       ]
      },
      {
       "output_type": "stream",
       "stream": "stdout",
       "text": [
        "Removing: Berlin\n"
       ]
      }
     ],
     "prompt_number": 12
    },
    {
     "cell_type": "markdown",
     "metadata": {
      "slideshow": {
       "slide_type": "slide"
      }
     },
     "source": [
      "## Food for thought\n",
      "\n",
      "* How would you write a program that asks a user to give you names of 20 different cities in Italy?\n",
      "\n",
      "* The user is not allowed to give you a name of the city more than once"
     ]
    },
    {
     "cell_type": "markdown",
     "metadata": {
      "slideshow": {
       "slide_type": "slide"
      }
     },
     "source": [
      "## `For`  loops\n",
      "\n",
      "* Help us to repeat the same thing as many times as we want"
     ]
    },
    {
     "cell_type": "code",
     "collapsed": false,
     "input": [
      "cities_croatia = ['Zagreb', 'Split', 'Dubrovnik', 'Rijeka', 'Varazdin', 'Osijek']\n",
      "\n",
      "for city in cities_croatia:\n",
      "    print city"
     ],
     "language": "python",
     "metadata": {},
     "outputs": [
      {
       "output_type": "stream",
       "stream": "stdout",
       "text": [
        "Zagreb\n",
        "Split\n",
        "Dubrovnik\n",
        "Rijeka\n",
        "Varazdin\n",
        "Osijek\n"
       ]
      }
     ],
     "prompt_number": 13
    },
    {
     "cell_type": "code",
     "collapsed": false,
     "input": [
      "print range(4)"
     ],
     "language": "python",
     "metadata": {
      "slideshow": {
       "slide_type": "slide"
      }
     },
     "outputs": [
      {
       "output_type": "stream",
       "stream": "stdout",
       "text": [
        "[0, 1, 2, 3]\n"
       ]
      }
     ],
     "prompt_number": 14
    },
    {
     "cell_type": "code",
     "collapsed": false,
     "input": [
      "for number in range(5):\n",
      "    print number"
     ],
     "language": "python",
     "metadata": {},
     "outputs": [
      {
       "output_type": "stream",
       "stream": "stdout",
       "text": [
        "0\n",
        "1\n",
        "2\n",
        "3\n",
        "4\n"
       ]
      }
     ],
     "prompt_number": 15
    },
    {
     "cell_type": "markdown",
     "metadata": {
      "slideshow": {
       "slide_type": "slide"
      }
     },
     "source": [
      "## Exercise 3\n",
      "\n",
      "* Change the code (replace all X's with different/same keywords) so it prints cities in Croatia"
     ]
    },
    {
     "cell_type": "code",
     "collapsed": false,
     "input": [
      "cities_croatia = ['Zagreb', 'Split', 'Dubrovnik', 'Rijeka', 'Varazdin', 'Osijek']\n",
      "\n",
      "for X in range(X):\n",
      "    print city[X]"
     ],
     "language": "python",
     "metadata": {},
     "outputs": []
    },
    {
     "cell_type": "markdown",
     "metadata": {
      "slideshow": {
       "slide_type": "slide"
      }
     },
     "source": [
      "## ...ok, but what can we do with loops?\n",
      "\n",
      "* Iterate over sequences: lists, strings, (dictionaries)...\n",
      "\n",
      "* Do the same thing for each element in the sequence, but writing the code just once"
     ]
    },
    {
     "cell_type": "markdown",
     "metadata": {
      "slideshow": {
       "slide_type": "slide"
      }
     },
     "source": [
      "## Homework\n",
      "\n",
      "Time for another game! This time the user will have to guess a number you imagined. Either you come up with your own number and *hard-code* it, or, for more fun you can use a random number generator:"
     ]
    },
    {
     "cell_type": "code",
     "collapsed": false,
     "input": [
      "from random import randint\n",
      "randint(3, 10) # give me a random number between 3 and 9"
     ],
     "language": "python",
     "metadata": {},
     "outputs": [
      {
       "metadata": {},
       "output_type": "pyout",
       "prompt_number": 16,
       "text": [
        "6"
       ]
      }
     ],
     "prompt_number": 16
    },
    {
     "cell_type": "markdown",
     "metadata": {},
     "source": [
      "* First steps:\n",
      "    * First write a short script that asks the user to guess the number\n",
      "    * Then notify the user if s/he got it right, or if not, whether the right number is lower or greater than the one s/he guessed"
     ]
    },
    {
     "cell_type": "markdown",
     "metadata": {},
     "source": [
      "* If the previous part works well, we can set up some rules. Let's say that user has a maximum number of 50 trials to guess the number. For debugging, you might want to start with a lower number, such as 5 or 10\n",
      "    * When the user gets the answer correctly, print the trial number \n",
      "    * More advanced: explore the `break` statement that helps you step out of the for loop even before reaching the end of the iteration"
     ]
    }
   ],
   "metadata": {}
  }
 ]
}