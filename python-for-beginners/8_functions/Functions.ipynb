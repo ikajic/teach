{
 "metadata": {
  "celltoolbar": "Slideshow",
  "name": "",
  "signature": "sha256:8b8b92ef9684a3d5be6e91d9e62d2c1bf99db2ac1f0f8ed74e8143df16251969"
 },
 "nbformat": 3,
 "nbformat_minor": 0,
 "worksheets": [
  {
   "cells": [
    {
     "cell_type": "markdown",
     "metadata": {
      "slideshow": {
       "slide_type": "slide"
      }
     },
     "source": [
      "# 8. Introduction to functions\n",
      "\n",
      "31st March 2015\n",
      "\n",
      "Goals:\n",
      "\n",
      "* Learn what is a function and why they are helpful\n",
      "\n",
      "* Relate functions in programming to functions in maths\n",
      "\n",
      "* Homework: "
     ]
    },
    {
     "cell_type": "markdown",
     "metadata": {
      "slideshow": {
       "slide_type": "slide"
      }
     },
     "source": [
      "## Previously seen on \"Python Cognovo classes\"\n",
      "\n",
      "* In one of the homeworks (lecuter: Memory refresher, exercises), the task was to clean up a sentence:\n"
     ]
    },
    {
     "cell_type": "code",
     "collapsed": false,
     "input": [
      "sentence = 'today is a  very nice day,but  we have to spend it in the lab.too   bad,no?'"
     ],
     "language": "python",
     "metadata": {},
     "outputs": [],
     "prompt_number": 3
    },
    {
     "cell_type": "markdown",
     "metadata": {},
     "source": [
      "* We had to remove redundant spaces, capitalize the letters at the beginning of a sentence and after a punctuation sign\n",
      "   \n",
      "* This kind of job is very common (e.g. filling out online forms)\n",
      "\n",
      "* Let's consider a simpler version of this task: cleaning up the name user entered"
     ]
    },
    {
     "cell_type": "markdown",
     "metadata": {
      "slideshow": {
       "slide_type": "slide"
      }
     },
     "source": [
      "## The task"
     ]
    },
    {
     "cell_type": "markdown",
     "metadata": {},
     "source": [
      "* Let's say we are organising a party and asking everyone to enter their name in an online form we have created\n",
      "\n",
      "* We are just asking for their name and printing a welcome message"
     ]
    },
    {
     "cell_type": "code",
     "collapsed": false,
     "input": [
      "from IPython.display import HTML\n",
      "\n",
      "input_form = \"\"\"\n",
      "<div style=\"background-color:gainsboro; border:solid black; width:300px; padding:20px;\">\n",
      "Your name: <input type=\"text\" id=\"var_name\" value=\"Ivana\"><br>\n",
      "</div>\n",
      "\"\"\"\n",
      "\n",
      "HTML(input_form + javascript)"
     ],
     "language": "python",
     "metadata": {
      "slideshow": {
       "slide_type": "-"
      }
     },
     "outputs": [
      {
       "html": [
        "\n",
        "<div style=\"background-color:gainsboro; border:solid black; width:300px; padding:20px;\">\n",
        "Your name: <input type=\"text\" id=\"var_name\" value=\"Ivana\"><br>\n",
        "</div>\n",
        "\n",
        "<script type=\"text/Javascript\">\n",
        "    function set_value(){\n",
        "        var var_name = document.getElementById('var_name').value;\n",
        "        var var_value = document.getElementById('var_value').value;\n",
        "        var command = var_name + \" = '\" + var_value + \"'\";\n",
        "        console.log(\"Executing Command: \" + command);\n",
        "        \n",
        "        var kernel = IPython.notebook.kernel;\n",
        "        kernel.execute(command);\n",
        "    }\n",
        "</script>\n"
       ],
       "metadata": {},
       "output_type": "pyout",
       "prompt_number": 14,
       "text": [
        "<IPython.core.display.HTML at 0x211c950>"
       ]
      }
     ],
     "prompt_number": 14
    },
    {
     "cell_type": "markdown",
     "metadata": {
      "slideshow": {
       "slide_type": "slide"
      }
     },
     "source": [
      "## The task\n",
      "\n",
      "* We can assume that in most of the cases users will do what they are asked for, but it can happen that we get following inputs:\n",
      "\n",
      "    ` ivana` (space in front of the name)\n",
      "    \n",
      "    `ivana ` (space after the name)\n",
      "    \n",
      "    `IVAna`  (mixed lowercase and uppercase letters)\n",
      "\n",
      "* Our task is to make sure that when a user enters such input, we still print a nice looking message: \n",
      "\n",
      "    `Hello Ivana!`"
     ]
    },
    {
     "cell_type": "markdown",
     "metadata": {
      "slideshow": {
       "slide_type": "slide"
      }
     },
     "source": [
      "## Let's write a program which does that!"
     ]
    },
    {
     "cell_type": "markdown",
     "metadata": {
      "slideshow": {
       "slide_type": "slide"
      }
     },
     "source": [
      "## One possible solution..."
     ]
    },
    {
     "cell_type": "code",
     "collapsed": false,
     "input": [
      "name = raw_input('What is your name? ')\n",
      "\n",
      "clean_name = name.strip()\n",
      "clean_name = clean_name.lower()\n",
      "clean_name = clean_name.capitalize()\n",
      "\n",
      "print 'Hello', clean_name, '!' "
     ],
     "language": "python",
     "metadata": {
      "slideshow": {
       "slide_type": "-"
      }
     },
     "outputs": [
      {
       "name": "stdout",
       "output_type": "stream",
       "stream": "stdout",
       "text": [
        "What is your name? Ja\n"
       ]
      },
      {
       "output_type": "stream",
       "stream": "stdout",
       "text": [
        "Hello Ja !\n"
       ]
      }
     ],
     "prompt_number": 18
    },
    {
     "cell_type": "markdown",
     "metadata": {
      "slideshow": {
       "slide_type": "slide"
      }
     },
     "source": [
      "### Now imagine that you also want to ask them for their surname"
     ]
    },
    {
     "cell_type": "code",
     "collapsed": false,
     "input": [
      "from IPython.display import HTML\n",
      "\n",
      "input_form = \"\"\"\n",
      "<div style=\"background-color:gainsboro; border:solid black; width:300px; padding:20px;\">\n",
      "Your name: <input type=\"text\" id=\"var_name\" value=\"Ivana\"><br>\n",
      "Surname: <input type=\"text\" id=\"var_name\" value=\"Kaji\u0107\"><br>\n",
      "</div>\n",
      "\"\"\"\n",
      "\n",
      "HTML(input_form + javascript)"
     ],
     "language": "python",
     "metadata": {},
     "outputs": [
      {
       "html": [
        "\n",
        "<div style=\"background-color:gainsboro; border:solid black; width:300px; padding:20px;\">\n",
        "Your name: <input type=\"text\" id=\"var_name\" value=\"Ivana\"><br>\n",
        "Surname: <input type=\"text\" id=\"var_name\" value=\"Kaji\u0107\"><br>\n",
        "</div>\n",
        "\n",
        "<script type=\"text/Javascript\">\n",
        "    function set_value(){\n",
        "        var var_name = document.getElementById('var_name').value;\n",
        "        var var_value = document.getElementById('var_value').value;\n",
        "        var command = var_name + \" = '\" + var_value + \"'\";\n",
        "        console.log(\"Executing Command: \" + command);\n",
        "        \n",
        "        var kernel = IPython.notebook.kernel;\n",
        "        kernel.execute(command);\n",
        "    }\n",
        "</script>\n"
       ],
       "metadata": {},
       "output_type": "pyout",
       "prompt_number": 17,
       "text": [
        "<IPython.core.display.HTML at 0x211c8d0>"
       ]
      }
     ],
     "prompt_number": 17
    },
    {
     "cell_type": "code",
     "collapsed": false,
     "input": [
      "name = raw_input('What is your name? ')\n",
      "\n",
      "clean_name = name.strip()\n",
      "clean_name = clean_name.lower()\n",
      "clean_name = clean_name.capitalize()\n",
      "\n",
      "print 'Hello', clean_name, '!' \n",
      "\n",
      "surname = raw_input('What is your surname? ')\n",
      "clean_surname = surname.strip()\n",
      "clean_surname = clean_surname.lower()\n",
      "clean_surname = clean_surname.capitalize()\n",
      "\n",
      "print 'Hello', clean_surname, '!' "
     ],
     "language": "python",
     "metadata": {
      "slideshow": {
       "slide_type": "slide"
      }
     },
     "outputs": [
      {
       "name": "stdout",
       "output_type": "stream",
       "stream": "stdout",
       "text": [
        "What is your name? Ivana\n"
       ]
      },
      {
       "output_type": "stream",
       "stream": "stdout",
       "text": [
        "Hello Ivana !\n"
       ]
      },
      {
       "name": "stdout",
       "output_type": "stream",
       "stream": "stdout",
       "text": [
        "What is your surname? Kajic\n"
       ]
      },
      {
       "output_type": "stream",
       "stream": "stdout",
       "text": [
        "Hello Kajic !\n"
       ]
      }
     ],
     "prompt_number": 20
    },
    {
     "cell_type": "markdown",
     "metadata": {
      "slideshow": {
       "slide_type": "slide"
      }
     },
     "source": [
      "### And now imagine we ask for their mother's and father's name... \n",
      "\n",
      "* Again copy-paste?"
     ]
    },
    {
     "cell_type": "markdown",
     "metadata": {
      "slideshow": {
       "slide_type": "slide"
      }
     },
     "source": [
      "## No! We have functions to help us!"
     ]
    },
    {
     "cell_type": "code",
     "collapsed": false,
     "input": [
      "def clean_up(text):\n",
      "    clean_text = text.strip()\n",
      "    clean_text = clean_text.lower()\n",
      "    clean_text = clean_text.capitalize()\n",
      "    \n",
      "    return clean_text"
     ],
     "language": "python",
     "metadata": {},
     "outputs": [],
     "prompt_number": 22
    },
    {
     "cell_type": "markdown",
     "metadata": {},
     "source": [
      "name = raw_input('What is your name?' )\n",
      "surname = raw_input('What is your surname?' )\n",
      "mothers_name = raw_input(\"What is your mother's name? \")"
     ]
    },
    {
     "cell_type": "code",
     "collapsed": false,
     "input": [
      "clean_name = clean_up(name)\n",
      "clean_surname = clean_up(surname)\n",
      "clean_mothers_name = clean_up(mothers_name)"
     ],
     "language": "python",
     "metadata": {},
     "outputs": [],
     "prompt_number": 29
    },
    {
     "cell_type": "code",
     "collapsed": false,
     "input": [
      "print 'Hello,', clean_name, '(', clean_mothers_name, ')', clean_surname "
     ],
     "language": "python",
     "metadata": {},
     "outputs": [
      {
       "output_type": "stream",
       "stream": "stdout",
       "text": [
        "Hello, Ivana ( Monika ) Kajic\n"
       ]
      }
     ],
     "prompt_number": 31
    },
    {
     "cell_type": "markdown",
     "metadata": {
      "slideshow": {
       "slide_type": "slide"
      }
     },
     "source": [
      "## Functions"
     ]
    },
    {
     "cell_type": "markdown",
     "metadata": {},
     "source": [
      "* Transformation \"box\""
     ]
    },
    {
     "cell_type": "markdown",
     "metadata": {
      "slideshow": {
       "slide_type": "slide"
      }
     },
     "source": [
      "## Python functions"
     ]
    },
    {
     "cell_type": "markdown",
     "metadata": {},
     "source": []
    },
    {
     "cell_type": "markdown",
     "metadata": {
      "slideshow": {
       "slide_type": "slide"
      }
     },
     "source": [
      "## Example 1"
     ]
    },
    {
     "cell_type": "markdown",
     "metadata": {
      "slideshow": {
       "slide_type": "slide"
      }
     },
     "source": [
      "## Example 2"
     ]
    },
    {
     "cell_type": "markdown",
     "metadata": {
      "slideshow": {
       "slide_type": "slide"
      }
     },
     "source": [
      "## Important vocabulary\n",
      "\n",
      "* Definition of a function vs. call of a function \n",
      "\n",
      "* Parameters and arguments\n",
      "\n",
      "* Return values"
     ]
    },
    {
     "cell_type": "markdown",
     "metadata": {
      "slideshow": {
       "slide_type": "slide"
      }
     },
     "source": [
      "## Research homework\n",
      "\n",
      "* How are functions defined and called in Matlab and R?\n",
      "\n",
      "* How are parameters defined, and how are arguments passed?\n",
      "\n",
      "* How do you return a value?\n"
     ]
    }
   ],
   "metadata": {}
  }
 ]
}