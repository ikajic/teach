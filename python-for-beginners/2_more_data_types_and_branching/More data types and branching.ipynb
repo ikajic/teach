{
 "metadata": {
  "celltoolbar": "Slideshow",
  "name": "",
  "signature": "sha256:42fc4e8bff7a09fae625d03baafce9ba8ab96e98189b6e4bc9af4c6e7d020ee7"
 },
 "nbformat": 3,
 "nbformat_minor": 0,
 "worksheets": [
  {
   "cells": [
    {
     "cell_type": "markdown",
     "metadata": {
      "slideshow": {
       "slide_type": "slide"
      }
     },
     "source": [
      "# 2. More data types and branching\n",
      "\n",
      "23rd October 2014\n",
      "\n",
      "Goal:\n",
      "\n",
      "* Learn (a bit more) more about advanced data types in Python\n",
      "\n",
      "* Learn about branching\n",
      "\n",
      "* Programming: make your own quiz"
     ]
    },
    {
     "cell_type": "markdown",
     "metadata": {
      "slideshow": {
       "slide_type": "slide"
      }
     },
     "source": [
      "## ...from the last time\n",
      "\n",
      "* Any questions about the homework or about the materials? \n",
      "\n",
      "* Today we will play with logic and more advanced data type: list\n",
      "\n",
      "* What we learn today will be used in the programming task (fun!)"
     ]
    },
    {
     "cell_type": "markdown",
     "metadata": {
      "slideshow": {
       "slide_type": "slide"
      }
     },
     "source": [
      "## Shopping\n",
      "\n",
      "* I send you to buy bread and roses. You come back with bread only. Am I happy? (True/False)\n",
      "* I send you to buy bread or roses. Again, you come back only with bread. Am I happy? (True/False)\n",
      "* I send you to buy bread or roses. Now you come with both. Am I happy? (True/False)"
     ]
    },
    {
     "cell_type": "markdown",
     "metadata": {
      "slideshow": {
       "slide_type": "slide"
      }
     },
     "source": [
      "## Logic data types\n",
      "\n",
      "* Two possible values of logic variables: `True`, `False`\n",
      "    * values are case sensitive (i.e. it is important that you write them with the capital letter in front)\n",
      "\n",
      "* Operations by the order of priority: NOT, AND, OR"
     ]
    },
    {
     "cell_type": "code",
     "collapsed": false,
     "input": [
      "sunny_outside = False"
     ],
     "language": "python",
     "metadata": {},
     "outputs": [],
     "prompt_number": 1
    },
    {
     "cell_type": "markdown",
     "metadata": {
      "slideshow": {
       "slide_type": "slide"
      }
     },
     "source": [
      "## Exercise 1"
     ]
    },
    {
     "cell_type": "code",
     "collapsed": false,
     "input": [
      "True and True\n",
      "True and False\n",
      "False and True\n",
      "False and False"
     ],
     "language": "python",
     "metadata": {},
     "outputs": []
    },
    {
     "cell_type": "markdown",
     "metadata": {},
     "source": [
      "## Exercise 2"
     ]
    },
    {
     "cell_type": "code",
     "collapsed": false,
     "input": [
      "True or True\n",
      "True or False\n",
      "False or True\n",
      "False or False"
     ],
     "language": "python",
     "metadata": {},
     "outputs": []
    },
    {
     "cell_type": "markdown",
     "metadata": {
      "slideshow": {
       "slide_type": "slide"
      }
     },
     "source": [
      "## Exercise 3"
     ]
    },
    {
     "cell_type": "code",
     "collapsed": false,
     "input": [
      "print not False or False\n",
      "print True or False and True\n",
      "print True and (False or True)\n"
     ],
     "language": "python",
     "metadata": {
      "slideshow": {
       "slide_type": "-"
      }
     },
     "outputs": []
    },
    {
     "cell_type": "code",
     "collapsed": false,
     "input": [
      "a = 2\n",
      "b = -2\n",
      "\n",
      "print a != b and b < a\n",
      "print a + b > 0 or False\n",
      "print a == abs(b)\n"
     ],
     "language": "python",
     "metadata": {},
     "outputs": []
    },
    {
     "cell_type": "markdown",
     "metadata": {
      "slideshow": {
       "slide_type": "slide"
      }
     },
     "source": [
      "# Lists\n",
      "\n",
      "List: An ordered sequence of elements\n",
      "\n",
      "Some examples:"
     ]
    },
    {
     "cell_type": "code",
     "collapsed": false,
     "input": [
      " numbers = [-0.3, -1.144, 2.4, -199.]"
     ],
     "language": "python",
     "metadata": {},
     "outputs": [],
     "prompt_number": 4
    },
    {
     "cell_type": "code",
     "collapsed": false,
     "input": [
      "strings = ['one', 'two', 'three', 'take my hand and come with me']"
     ],
     "language": "python",
     "metadata": {},
     "outputs": [],
     "prompt_number": 5
    },
    {
     "cell_type": "code",
     "collapsed": false,
     "input": [
      "lots_of_things = [1, 2.3, ['wohoo', 'list in a list']]"
     ],
     "language": "python",
     "metadata": {},
     "outputs": [],
     "prompt_number": 6
    },
    {
     "cell_type": "markdown",
     "metadata": {
      "slideshow": {
       "slide_type": "notes"
      }
     },
     "source": [
      "Now fire up the canopy!"
     ]
    },
    {
     "cell_type": "markdown",
     "metadata": {},
     "source": [
      "* A list is defined using square brackets `[]` and elements are separated by a single comma `,`\n",
      "\n",
      "* Elements in a list are accessed by the list name using square brackets and the index\n",
      "\n",
      "* Check the length of the list using the `len` function: `len(numbers)`"
     ]
    },
    {
     "cell_type": "code",
     "collapsed": false,
     "input": [
      "# Try these out!\n",
      "\n",
      "print numbers[0] \n",
      "print strings[3], strings[-1] \n",
      "print numbers[0:3] \n",
      "\n",
      "numbers.append(400)\n",
      "print numbers"
     ],
     "language": "python",
     "metadata": {
      "slideshow": {
       "slide_type": "slide"
      }
     },
     "outputs": [
      {
       "output_type": "stream",
       "stream": "stdout",
       "text": [
        "-0.3\n",
        "take my hand and come with me take my hand and come with me\n",
        "[-0.3, -1.144, 2.4]\n",
        "[-0.3, -1.144, 2.4, -199.0, 400]\n"
       ]
      }
     ],
     "prompt_number": 7
    },
    {
     "cell_type": "markdown",
     "metadata": {
      "slideshow": {
       "slide_type": "slide"
      }
     },
     "source": [
      "## `if-then` statement\n",
      "\n",
      "* Helps us to control the flow of the program better\n",
      "\n",
      "* For example, we might want to do different things depending on what the user wants:"
     ]
    },
    {
     "cell_type": "code",
     "collapsed": false,
     "input": [
      "who = raw_input('Are you a human or a robot? (enter either \"human\" or \"robot\") ')\n",
      "\n",
      "if who == \"human\":\n",
      "    print 'Hey human, would you like some tea?'\n",
      "\n",
      "if who == \"robot\":\n",
      "    print 'Hey robot, would you like some robotea?'"
     ],
     "language": "python",
     "metadata": {},
     "outputs": [
      {
       "name": "stdout",
       "output_type": "stream",
       "stream": "stdout",
       "text": [
        "Are you a human or a robot? (enter either \"human\" or \"robot\") robot\n"
       ]
      },
      {
       "output_type": "stream",
       "stream": "stdout",
       "text": [
        "Hey robot, would you like some robotea?\n"
       ]
      }
     ],
     "prompt_number": 10
    },
    {
     "cell_type": "markdown",
     "metadata": {
      "slideshow": {
       "slide_type": "slide"
      }
     },
     "source": [
      "## `if-then-else` syntax"
     ]
    },
    {
     "cell_type": "code",
     "collapsed": false,
     "input": [
      "if who == \"human\":\n",
      "    print 'Hey human, would you like some tea?'\n",
      "elif who ==  \"robot\":\n",
      "    print 'Hey robot, would you like some robotea?'\n",
      "else:\n",
      "    print 'Sorry, we do not know what to offer you on our planet'"
     ],
     "language": "python",
     "metadata": {
      "slideshow": {
       "slide_type": "-"
      }
     },
     "outputs": [
      {
       "output_type": "stream",
       "stream": "stdout",
       "text": [
        "Hey robot, would you like some robotea?\n"
       ]
      }
     ],
     "prompt_number": 11
    },
    {
     "cell_type": "markdown",
     "metadata": {},
     "source": [
      "What is the difference between this, and the previous example?"
     ]
    },
    {
     "cell_type": "markdown",
     "metadata": {
      "slideshow": {
       "slide_type": "slide"
      }
     },
     "source": [
      "## Exercise 4\n",
      "\n",
      "Imagine two new creatures come to the world of creative robots: \"electric goat\" and \"buggy bee\". \n",
      "\n",
      "* Change the code so that it offers tea to our new guests\n",
      "\n",
      "* Change it furhter, and only if the user is an electric goat ask it if it wants \"robograss\" or \"robotea\""
     ]
    },
    {
     "cell_type": "markdown",
     "metadata": {
      "slideshow": {
       "slide_type": "slide"
      }
     },
     "source": [
      "## Homework\n",
      "\n",
      "In this task you will create an interesting, funny to solve quiz on topic of your choice containing 5 or more questions. \n",
      "\n",
      "    * Start by creating a script called \"your_name_quiz.py\"\n",
      "    \n",
      "A user will be solving the quiz, and after s/he answered the last question you will let them know about their preformance.\n",
      "Pick an interesting topic (so we have fun while solving your quizzes next time ;))\n",
      "Here are some examples of question types (some of them are easier to implement, some more difficult), but feel free to tailor the quiz the way you like:\n",
      "\n",
      "    * True/False questions\n",
      "   \n",
      "    * Multiple choice questions\n",
      "        \n",
      "    * One-single-correct answer\n",
      "        \n",
      "    * Fill the gap: (e.g. \"Twinkle twinkle little ____.\")\n",
      "\n",
      "More advanced: Use a list to store and evaluate user's answers. Following functions could help with that: `append`, `sum` and `len`."
     ]
    },
    {
     "cell_type": "markdown",
     "metadata": {
      "slideshow": {
       "slide_type": "slide"
      }
     },
     "source": [
      "## Next time\n",
      "\n",
      "* First, we will solve the quizzes and see who scores the best\n",
      "\n",
      "* Then we will learn a more powerful way to control what happens in the program by using `for` and `while` loops"
     ]
    }
   ],
   "metadata": {}
  }
 ]
}