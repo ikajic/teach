{
 "cells": [
  {
   "cell_type": "markdown",
   "metadata": {},
   "source": [
    "## CS 116 (WT18) Tutorial 09 notes\n",
    "### Classes in Python"
   ]
  },
  {
   "cell_type": "markdown",
   "metadata": {},
   "source": [
    "- A class is a structure one ends up with when marrying functions and variables\n",
    "- Convienient way of organizing data, so that functions/variables which are somehow related are grouped together\n",
    "- It is the basic building block in the **object-oriented programming** paradigm"
   ]
  },
  {
   "cell_type": "markdown",
   "metadata": {},
   "source": [
    "Define a class `Book` with a special method `__init__` that sets the attributes a user provides."
   ]
  },
  {
   "cell_type": "code",
   "execution_count": 1,
   "metadata": {},
   "outputs": [],
   "source": [
    "class Book:         \n",
    "    def __init__(self, title, author): # <-- this is a method\n",
    "        self.title = title # <-- this is an atribute\n",
    "        self.author = author # <-- so is this\n",
    "        self.state = \"shelf\""
   ]
  },
  {
   "cell_type": "markdown",
   "metadata": {},
   "source": [
    "Notice:\n",
    "- we did not describe a particular book, but rather the general idea\n",
    "- a particular example of a book is an instance of (a class)\n",
    "- **attributes** (fields) define the state and **methods** define what can be done with the book"
   ]
  },
  {
   "cell_type": "code",
   "execution_count": 2,
   "metadata": {},
   "outputs": [],
   "source": [
    "favorite_book = Book(\"Norwegian Wood\", \"Haruki Murakami\")"
   ]
  },
  {
   "cell_type": "code",
   "execution_count": 3,
   "metadata": {},
   "outputs": [
    {
     "data": {
      "text/plain": [
       "__main__.Book"
      ]
     },
     "execution_count": 3,
     "metadata": {},
     "output_type": "execute_result"
    }
   ],
   "source": [
    "type(favorite_book)"
   ]
  },
  {
   "cell_type": "code",
   "execution_count": 4,
   "metadata": {},
   "outputs": [
    {
     "data": {
      "text/plain": [
       "'Norwegian Wood'"
      ]
     },
     "execution_count": 4,
     "metadata": {},
     "output_type": "execute_result"
    }
   ],
   "source": [
    "favorite_book.title"
   ]
  },
  {
   "cell_type": "code",
   "execution_count": 5,
   "metadata": {
    "scrolled": true
   },
   "outputs": [
    {
     "data": {
      "text/plain": [
       "'Haruki Murakami'"
      ]
     },
     "execution_count": 5,
     "metadata": {},
     "output_type": "execute_result"
    }
   ],
   "source": [
    "favorite_book.author"
   ]
  },
  {
   "cell_type": "markdown",
   "metadata": {},
   "source": [
    "We might change our opinion:"
   ]
  },
  {
   "cell_type": "code",
   "execution_count": 6,
   "metadata": {},
   "outputs": [
    {
     "data": {
      "text/plain": [
       "'Sweetheart Sputnik'"
      ]
     },
     "execution_count": 6,
     "metadata": {},
     "output_type": "execute_result"
    }
   ],
   "source": [
    "favorite_book.title = \"Sweetheart Sputnik\"\n",
    "favorite_book.title"
   ]
  },
  {
   "cell_type": "markdown",
   "metadata": {},
   "source": [
    "Let's define a method `borrow`, which, when called, will \"lend\" a book to someone:"
   ]
  },
  {
   "cell_type": "code",
   "execution_count": 7,
   "metadata": {},
   "outputs": [],
   "source": [
    "class Book:         \n",
    "    def __init__(self, title, author): # <-- this is a method\n",
    "        self.title = title # <-- this is an atribute\n",
    "        self.author = author # <-- so is this\n",
    "        self.state = \"shelf\"\n",
    "    \n",
    "    def borrow(self, name, date): # <-- another method\n",
    "        self.name = name\n",
    "        self.state = \"lent\"\n",
    "        self.date = date  # <-- a function defined in a module date"
   ]
  },
  {
   "cell_type": "code",
   "execution_count": 8,
   "metadata": {},
   "outputs": [],
   "source": [
    "favorite_book = Book(\"Norwegian Wood\", \"Haruki Murakami\")\n",
    "favorite_book.borrow('Jo', 'mar21 2018')"
   ]
  },
  {
   "cell_type": "code",
   "execution_count": 9,
   "metadata": {},
   "outputs": [
    {
     "data": {
      "text/plain": [
       "'lent'"
      ]
     },
     "execution_count": 9,
     "metadata": {},
     "output_type": "execute_result"
    }
   ],
   "source": [
    "favorite_book.state"
   ]
  },
  {
   "cell_type": "code",
   "execution_count": 10,
   "metadata": {},
   "outputs": [
    {
     "data": {
      "text/plain": [
       "'Jo'"
      ]
     },
     "execution_count": 10,
     "metadata": {},
     "output_type": "execute_result"
    }
   ],
   "source": [
    "favorite_book.name"
   ]
  },
  {
   "cell_type": "markdown",
   "metadata": {},
   "source": [
    "It would be convenient if we could just print that information at once, something like `print_info(favorite_book)`."
   ]
  },
  {
   "cell_type": "code",
   "execution_count": 11,
   "metadata": {},
   "outputs": [],
   "source": [
    "class Book:\n",
    "    \"\"\"This class describes the concept of a book.\"\"\" # <-- docstring\n",
    "         \n",
    "    def __init__(self, title, author): # <-- this is a method\n",
    "        self.title = title # <-- this is an atribute\n",
    "        self.author = author # <-- so is this\n",
    "        self.state = \"shelf\"\n",
    "        \n",
    "    def __repr__(self):\n",
    "        return \"{0} by {1} ({2})\".format(self.title, self.author, self.state)\n",
    "    \n",
    "    def borrow(self, name, date): # <-- another method\n",
    "        self.name = name\n",
    "        self.state = \"lent\""
   ]
  },
  {
   "cell_type": "code",
   "execution_count": 12,
   "metadata": {},
   "outputs": [
    {
     "name": "stdout",
     "output_type": "stream",
     "text": [
      "Norwegian Wood by Haruki Murakami (shelf)\n"
     ]
    }
   ],
   "source": [
    "favorite_book = Book(\"Norwegian Wood\", \"Haruki Murakami\")\n",
    "print(favorite_book)"
   ]
  },
  {
   "cell_type": "markdown",
   "metadata": {},
   "source": [
    "We might want to compare if the two books are the same.\n",
    "\n",
    "One way to do it is to define a function `compare` that expects two instances of the book class (e.g., `book1` and `book2`) and compares each attribute.\n",
    "\n",
    "This works, but we would have to \"tag-along\" that function with our classes every time we use it (i.e., copy-paste it in different parts of the code), there is a better way:"
   ]
  },
  {
   "cell_type": "code",
   "execution_count": 13,
   "metadata": {},
   "outputs": [],
   "source": [
    "class Book:\n",
    "    \"\"\"This class describes the concept of a book.\"\"\" # <-- docstring\n",
    "         \n",
    "    def __init__(self, title, author): # <-- this is a method\n",
    "        self.title = title # <-- this is an atribute\n",
    "        self.author = author # <-- so is this\n",
    "        self.state = \"shelf\"\n",
    "        \n",
    "    def __repr__(self):\n",
    "        return \"{0} by {1} ({2})\".format(self.title, self.author, self.state)\n",
    "    \n",
    "    def __eq__(self, other):  ## notice additional argument 'other'\n",
    "        return isinstance(other, Book) and self.title == other.title and self.author == other.author\n",
    "    \n",
    "    def borrow(self, name, date): # <-- another method\n",
    "        self.name = name\n",
    "        self.state = \"lent\"\n",
    "        self.date = date.getCurrentDate()  # <-- a function defined in a module date"
   ]
  },
  {
   "cell_type": "code",
   "execution_count": 14,
   "metadata": {},
   "outputs": [
    {
     "data": {
      "text/plain": [
       "False"
      ]
     },
     "execution_count": 14,
     "metadata": {},
     "output_type": "execute_result"
    }
   ],
   "source": [
    "book1 = Book(\"Room\", \"Emma Donoghue\")\n",
    "book2 = Book(\"The Room\", \"Emma Donoghue\")\n",
    "\n",
    "book1 == book2"
   ]
  },
  {
   "cell_type": "markdown",
   "metadata": {},
   "source": [
    "Note: `__repr__` is similar to `__str__` which you've seen in the class."
   ]
  }
 ],
 "metadata": {
  "kernelspec": {
   "display_name": "Python 3",
   "language": "python",
   "name": "python3"
  },
  "language_info": {
   "codemirror_mode": {
    "name": "ipython",
    "version": 3
   },
   "file_extension": ".py",
   "mimetype": "text/x-python",
   "name": "python",
   "nbconvert_exporter": "python",
   "pygments_lexer": "ipython3",
   "version": "3.5.3"
  }
 },
 "nbformat": 4,
 "nbformat_minor": 2
}
